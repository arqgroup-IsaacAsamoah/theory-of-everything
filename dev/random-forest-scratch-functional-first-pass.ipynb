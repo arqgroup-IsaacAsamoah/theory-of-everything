{
 "cells": [
  {
   "cell_type": "markdown",
   "metadata": {},
   "source": [
    "# Random forest regression\n",
    "\n",
    "### Training\n",
    "* Set number of trees = B\n",
    "* Set tree depth rule = terminal node partition size >=5\n",
    "* Take a bootstrap sample from given data\n",
    "* Build a random forest tree \n",
    "    * Set the sample size for the feature sample, start with m = sqrt(p) \n",
    "    \n",
    "    * Take a random sample m of input features from the feature set p  \n",
    "    \n",
    "    * For each feature selected define cutpoints to be assessed for partitioning the feature space. Method investigation required.  \n",
    "    \n",
    "    * For each feature (p) - cutpoint (s) combination partition the data and calculate the mean of both partitions.  \n",
    "    \n",
    "    * Calculate the combined RSS of both partitions  \n",
    "    \n",
    "    * Select and store the feature - cutpoint combination with minnimum combined RSS of both partitions. Also store the mean of each partition.  \n",
    "    \n",
    "    * Apply the same random forest partition steps for each new partition until the tree depth rule is violated. That is, each new partition is treated the same as the original data and partitioned by the same rules.  \n",
    "    \n",
    "    * Store the tree as the list of selected partitions and the out of bag R2 and MSE for the tree  \n",
    "\n",
    "* Repeat the random forest steps until the  number of random froest trees = B\n",
    "* Store thje Random forest as a set of random forest trees.\n",
    "* Once the number of random forest trees = B, for each observation in the training data, predict the outcome using the trees for which the observation is out-of-bag. \n",
    "    * To predict the outcome, apply the store partitions for each tree to the feature space of the observation.\n",
    "    * Take the mean of the terminal node the observation is placed in for each tree\n",
    "    * Take the mean of the predicted outcome for each tree.\n",
    "    * This mean of the means is the prediction for that observation.\n",
    "* Using the OOB prediction of each outcome, calculate the OOB MSE and R2 for the random forest.\n",
    "* Store the OOB MSE and R2 for the Random forest\n",
    "* Uing the stored training predictions, calculate the training MSE and R2\n",
    "* Store the training MSE and R2 for the Random forest\n",
    "\n",
    "### Testing\n",
    "* for each observation of the test set:\n",
    "    * partition the feature space acording to the random forest model provided\n",
    "    * Calculate the mean of the terminal node for each tree\n",
    "    * take the mean of the prediction across all trees in the forest\n",
    "* From the predicted values calculate the test MSE and R2.\n"
   ]
  },
  {
   "cell_type": "markdown",
   "metadata": {},
   "source": [
    "## Questions\n",
    "* How do I store the final tree?\n",
    "* How do I build the tree iteratively?\n",
    "* How do I build the tree without side effects?\n",
    "* Can I use depth to create the new entry at the correct nested depth of the tree? Is this necessary?\n",
    "* What do I do if multiple features/splits satisfy the select_feature criteria? Take the first? \n",
    "\n",
    "\n"
   ]
  },
  {
   "cell_type": "code",
   "execution_count": 1,
   "metadata": {},
   "outputs": [],
   "source": [
    "from sklearn import datasets\n",
    "import pandas as pd\n",
    "import numpy as np\n",
    "import random as rand\n",
    "import math\n",
    "import pprint"
   ]
  },
  {
   "cell_type": "code",
   "execution_count": 2,
   "metadata": {},
   "outputs": [],
   "source": [
    "y = datasets.load_boston()['target']\n",
    "X = datasets.load_boston()['data']\n",
    "columns = datasets.load_boston()['feature_names']\n"
   ]
  },
  {
   "cell_type": "code",
   "execution_count": 5,
   "metadata": {},
   "outputs": [],
   "source": [
    "train = pd.DataFrame(X)\n",
    "train.columns = columns\n",
    "train.loc[:, 'y'] = y\n"
   ]
  },
  {
   "cell_type": "code",
   "execution_count": 6,
   "metadata": {},
   "outputs": [
    {
     "data": {
      "text/html": [
       "<div>\n",
       "<style scoped>\n",
       "    .dataframe tbody tr th:only-of-type {\n",
       "        vertical-align: middle;\n",
       "    }\n",
       "\n",
       "    .dataframe tbody tr th {\n",
       "        vertical-align: top;\n",
       "    }\n",
       "\n",
       "    .dataframe thead th {\n",
       "        text-align: right;\n",
       "    }\n",
       "</style>\n",
       "<table border=\"1\" class=\"dataframe\">\n",
       "  <thead>\n",
       "    <tr style=\"text-align: right;\">\n",
       "      <th></th>\n",
       "      <th>a</th>\n",
       "      <th>c</th>\n",
       "      <th>y</th>\n",
       "    </tr>\n",
       "  </thead>\n",
       "  <tbody>\n",
       "    <tr>\n",
       "      <th>0</th>\n",
       "      <td>44</td>\n",
       "      <td>2</td>\n",
       "      <td>46</td>\n",
       "    </tr>\n",
       "    <tr>\n",
       "      <th>1</th>\n",
       "      <td>47</td>\n",
       "      <td>4</td>\n",
       "      <td>37</td>\n",
       "    </tr>\n",
       "    <tr>\n",
       "      <th>2</th>\n",
       "      <td>53</td>\n",
       "      <td>7</td>\n",
       "      <td>25</td>\n",
       "    </tr>\n",
       "    <tr>\n",
       "      <th>3</th>\n",
       "      <td>0</td>\n",
       "      <td>6</td>\n",
       "      <td>77</td>\n",
       "    </tr>\n",
       "    <tr>\n",
       "      <th>4</th>\n",
       "      <td>3</td>\n",
       "      <td>8</td>\n",
       "      <td>72</td>\n",
       "    </tr>\n",
       "    <tr>\n",
       "      <th>5</th>\n",
       "      <td>3</td>\n",
       "      <td>8</td>\n",
       "      <td>9</td>\n",
       "    </tr>\n",
       "    <tr>\n",
       "      <th>6</th>\n",
       "      <td>39</td>\n",
       "      <td>10</td>\n",
       "      <td>20</td>\n",
       "    </tr>\n",
       "    <tr>\n",
       "      <th>7</th>\n",
       "      <td>9</td>\n",
       "      <td>1</td>\n",
       "      <td>69</td>\n",
       "    </tr>\n",
       "    <tr>\n",
       "      <th>8</th>\n",
       "      <td>19</td>\n",
       "      <td>6</td>\n",
       "      <td>47</td>\n",
       "    </tr>\n",
       "    <tr>\n",
       "      <th>9</th>\n",
       "      <td>21</td>\n",
       "      <td>7</td>\n",
       "      <td>64</td>\n",
       "    </tr>\n",
       "  </tbody>\n",
       "</table>\n",
       "</div>"
      ],
      "text/plain": [
       "    a   c   y\n",
       "0  44   2  46\n",
       "1  47   4  37\n",
       "2  53   7  25\n",
       "3   0   6  77\n",
       "4   3   8  72\n",
       "5   3   8   9\n",
       "6  39  10  20\n",
       "7   9   1  69\n",
       "8  19   6  47\n",
       "9  21   7  64"
      ]
     },
     "execution_count": 6,
     "metadata": {},
     "output_type": "execute_result"
    }
   ],
   "source": [
    "# tiny small data for tree by hand\n",
    "np.random.seed(0)\n",
    "toy_data = pd.DataFrame({'a' : np.random.choice(57, 10), 'c' : np.random.choice(11, 10),\n",
    "                         'y' : np.random.choice(78, 10)})\n",
    "y_toy = toy_data.loc[:,'y']\n",
    "X_toy = toy_data.loc[:, ['a', 'c']]\n",
    "toy_data\n"
   ]
  },
  {
   "cell_type": "code",
   "execution_count": 7,
   "metadata": {},
   "outputs": [
    {
     "data": {
      "text/html": [
       "<div>\n",
       "<style scoped>\n",
       "    .dataframe tbody tr th:only-of-type {\n",
       "        vertical-align: middle;\n",
       "    }\n",
       "\n",
       "    .dataframe tbody tr th {\n",
       "        vertical-align: top;\n",
       "    }\n",
       "\n",
       "    .dataframe thead th {\n",
       "        text-align: right;\n",
       "    }\n",
       "</style>\n",
       "<table border=\"1\" class=\"dataframe\">\n",
       "  <thead>\n",
       "    <tr style=\"text-align: right;\">\n",
       "      <th></th>\n",
       "      <th>a</th>\n",
       "      <th>c</th>\n",
       "      <th>y</th>\n",
       "    </tr>\n",
       "  </thead>\n",
       "  <tbody>\n",
       "    <tr>\n",
       "      <th>0</th>\n",
       "      <td>37</td>\n",
       "      <td>9</td>\n",
       "      <td>15</td>\n",
       "    </tr>\n",
       "    <tr>\n",
       "      <th>1</th>\n",
       "      <td>12</td>\n",
       "      <td>11</td>\n",
       "      <td>0</td>\n",
       "    </tr>\n",
       "    <tr>\n",
       "      <th>2</th>\n",
       "      <td>72</td>\n",
       "      <td>5</td>\n",
       "      <td>16</td>\n",
       "    </tr>\n",
       "  </tbody>\n",
       "</table>\n",
       "</div>"
      ],
      "text/plain": [
       "    a   c   y\n",
       "0  37   9  15\n",
       "1  12  11   0\n",
       "2  72   5  16"
      ]
     },
     "execution_count": 7,
     "metadata": {},
     "output_type": "execute_result"
    }
   ],
   "source": [
    "# tiny data for testing tree by hand\n",
    "np.random.seed(1)\n",
    "toy_data_test = pd.DataFrame({'a' : np.random.choice(89, 3), 'c' : np.random.choice(45, 3),\n",
    "                         'y' : np.random.choice(23, 3)})\n",
    "y_toy_test = toy_data_test.loc[:,'y']\n",
    "X_toy_test = toy_data_test.loc[:, ['a', 'c']]\n",
    "toy_data_test"
   ]
  },
  {
   "cell_type": "code",
   "execution_count": 8,
   "metadata": {},
   "outputs": [],
   "source": [
    "# build a simple regression tree\n",
    "\n",
    "# I want to create n splits in a feature with n entries - a split for each entry\n",
    "\n",
    "# I need to store the cost function of each split so it can be compared to others in order to select the best\n",
    "\n",
    "# I also need to store the feature and feature value of each split\n",
    "\n",
    "# I need a function\n",
    "    # to calculate the cost function\n",
    "    # to create create two data sets for each value of a given feature to be assesed by the cost function\n",
    "    # to apply the above function to every feature in the data set\n",
    "    # to select the split with the lowest cost\n",
    "\n",
    "# I need a function to recursively build a tree using the above steps\n"
   ]
  },
  {
   "cell_type": "code",
   "execution_count": 9,
   "metadata": {},
   "outputs": [],
   "source": [
    "# feature partitioning\n",
    "\n",
    "def get_feature_splits(y, f):\n",
    "   \n",
    "    '''split the y variable by split s in feature f'''\n",
    "    \n",
    "    return ([{'feature' : f.name, 'split' :  s, 'left': y[f < s],\n",
    "              'right' :  y[f >= s]} for s in f])\n",
    "\n",
    "\n",
    "\n",
    "\n"
   ]
  },
  {
   "cell_type": "code",
   "execution_count": 10,
   "metadata": {},
   "outputs": [],
   "source": [
    "def combined_RSS(y1, y2):\n",
    "    return np.sum((y1 - np.mean(y1))**2) + np.sum((y2 - np.mean(y2))**2)\n",
    "   \n",
    "    \n",
    "    \n",
    "    \n",
    "    "
   ]
  },
  {
   "cell_type": "code",
   "execution_count": 11,
   "metadata": {},
   "outputs": [],
   "source": [
    "# cost function\n",
    "\n",
    "def cost_function(feature_split): \n",
    "    \n",
    "    '''calculate the total RSS for the partitions defined by splitting feature f at split s'''\n",
    "    \n",
    "    return ({'feature' : feature_split['feature'],\n",
    "              'split' : feature_split['split'],\n",
    "              'cost' : combined_RSS(feature_split['left'], feature_split['right'])\n",
    "            }\n",
    "           )\n",
    "\n"
   ]
  },
  {
   "cell_type": "code",
   "execution_count": 12,
   "metadata": {},
   "outputs": [],
   "source": [
    "def flatten_list(l):\n",
    "    return [item for sublist in l for item in sublist]\n",
    "    "
   ]
  },
  {
   "cell_type": "code",
   "execution_count": 13,
   "metadata": {
    "scrolled": false
   },
   "outputs": [],
   "source": [
    "# partitioning y for each feature split combination\n",
    "\n",
    "def get_split_costs(df):\n",
    "    \n",
    "    '''calulate the cost for each partition'''\n",
    "    return flatten_list(\n",
    "        [[cost_function(split) for split in get_feature_splits(\n",
    "            df.iloc[:,-1], df.iloc[:,:-1].loc[:, feature])] for feature in rand.sample(list(\n",
    "            df.iloc[:,:-1].columns), int(math.sqrt(len(list(df.iloc[:,:-1].columns)))))])\n",
    "\n",
    "\n",
    "\n"
   ]
  },
  {
   "cell_type": "code",
   "execution_count": 127,
   "metadata": {},
   "outputs": [
    {
     "data": {
      "text/plain": [
       "0    17\n",
       "1     5\n",
       "2    11\n",
       "Name: y, dtype: int64"
      ]
     },
     "execution_count": 127,
     "metadata": {},
     "output_type": "execute_result"
    }
   ],
   "source": [
    "\n",
    "toy_data.iloc[:, -1]"
   ]
  },
  {
   "cell_type": "code",
   "execution_count": 115,
   "metadata": {},
   "outputs": [
    {
     "data": {
      "text/plain": [
       "['y']"
      ]
     },
     "execution_count": 115,
     "metadata": {},
     "output_type": "execute_result"
    }
   ],
   "source": [
    "rand.sample(list(\n",
    "            toy_data.iloc[:,:-1].columns), int(math.sqrt(len(list(toy_data.iloc[:,:-1].columns)))))"
   ]
  },
  {
   "cell_type": "code",
   "execution_count": 128,
   "metadata": {},
   "outputs": [
    {
     "data": {
      "text/plain": [
       "['NOX', 'RAD', 'DIS']"
      ]
     },
     "execution_count": 128,
     "metadata": {},
     "output_type": "execute_result"
    }
   ],
   "source": [
    "rand.sample(list(\n",
    "                 train.columns), int(math.sqrt(len(list(train.iloc[:,:-1].columns)))))"
   ]
  },
  {
   "cell_type": "code",
   "execution_count": 14,
   "metadata": {},
   "outputs": [],
   "source": [
    "def select_node(split_costs): \n",
    "    \n",
    "    \n",
    "    '''select the lowest cost node'''\n",
    "    \n",
    "    return (rand.choice([{'feature' : split['feature'], 'split' : split['split'],\n",
    "                          'cost' : split['cost']}\n",
    "                         for split in split_costs if split['cost'] == np.min(\n",
    "                             [split['cost'] for split in split_costs])]))\n",
    "    \n",
    "\n"
   ]
  },
  {
   "cell_type": "code",
   "execution_count": 15,
   "metadata": {},
   "outputs": [],
   "source": [
    "def terminal_node(node_y):\n",
    "    return np.mean(node_y)"
   ]
  },
  {
   "cell_type": "markdown",
   "metadata": {},
   "source": [
    "### Build a tree with basic functions with a tiny dataset"
   ]
  },
  {
   "cell_type": "code",
   "execution_count": 142,
   "metadata": {
    "scrolled": true
   },
   "outputs": [
    {
     "data": {
      "text/html": [
       "<div>\n",
       "<style scoped>\n",
       "    .dataframe tbody tr th:only-of-type {\n",
       "        vertical-align: middle;\n",
       "    }\n",
       "\n",
       "    .dataframe tbody tr th {\n",
       "        vertical-align: top;\n",
       "    }\n",
       "\n",
       "    .dataframe thead th {\n",
       "        text-align: right;\n",
       "    }\n",
       "</style>\n",
       "<table border=\"1\" class=\"dataframe\">\n",
       "  <thead>\n",
       "    <tr style=\"text-align: right;\">\n",
       "      <th></th>\n",
       "      <th>a</th>\n",
       "      <th>c</th>\n",
       "      <th>y</th>\n",
       "    </tr>\n",
       "  </thead>\n",
       "  <tbody>\n",
       "    <tr>\n",
       "      <th>0</th>\n",
       "      <td>11</td>\n",
       "      <td>10</td>\n",
       "      <td>17</td>\n",
       "    </tr>\n",
       "    <tr>\n",
       "      <th>1</th>\n",
       "      <td>2</td>\n",
       "      <td>52</td>\n",
       "      <td>5</td>\n",
       "    </tr>\n",
       "    <tr>\n",
       "      <th>2</th>\n",
       "      <td>7</td>\n",
       "      <td>45</td>\n",
       "      <td>11</td>\n",
       "    </tr>\n",
       "  </tbody>\n",
       "</table>\n",
       "</div>"
      ],
      "text/plain": [
       "    a   c   y\n",
       "0  11  10  17\n",
       "1   2  52   5\n",
       "2   7  45  11"
      ]
     },
     "metadata": {},
     "output_type": "display_data"
    },
    {
     "data": {
      "text/plain": [
       "[{'feature': 'a', 'split': 11, 'cost': 18.0},\n",
       " {'feature': 'a', 'split': 2, 'cost': 72.0},\n",
       " {'feature': 'a', 'split': 7, 'cost': 18.0}]"
      ]
     },
     "execution_count": 142,
     "metadata": {},
     "output_type": "execute_result"
    }
   ],
   "source": [
    "\n",
    "display(toy_data)\n",
    "splits = get_split_costs(toy_data)\n",
    "\n",
    "splits\n"
   ]
  },
  {
   "cell_type": "code",
   "execution_count": 144,
   "metadata": {},
   "outputs": [
    {
     "data": {
      "text/plain": [
       "0    17\n",
       "1     5\n",
       "2    11\n",
       "Name: y, dtype: int64"
      ]
     },
     "metadata": {},
     "output_type": "display_data"
    },
    {
     "data": {
      "text/html": [
       "<div>\n",
       "<style scoped>\n",
       "    .dataframe tbody tr th:only-of-type {\n",
       "        vertical-align: middle;\n",
       "    }\n",
       "\n",
       "    .dataframe tbody tr th {\n",
       "        vertical-align: top;\n",
       "    }\n",
       "\n",
       "    .dataframe thead th {\n",
       "        text-align: right;\n",
       "    }\n",
       "</style>\n",
       "<table border=\"1\" class=\"dataframe\">\n",
       "  <thead>\n",
       "    <tr style=\"text-align: right;\">\n",
       "      <th></th>\n",
       "      <th>a</th>\n",
       "      <th>c</th>\n",
       "    </tr>\n",
       "  </thead>\n",
       "  <tbody>\n",
       "    <tr>\n",
       "      <th>0</th>\n",
       "      <td>11</td>\n",
       "      <td>10</td>\n",
       "    </tr>\n",
       "    <tr>\n",
       "      <th>1</th>\n",
       "      <td>2</td>\n",
       "      <td>52</td>\n",
       "    </tr>\n",
       "    <tr>\n",
       "      <th>2</th>\n",
       "      <td>7</td>\n",
       "      <td>45</td>\n",
       "    </tr>\n",
       "  </tbody>\n",
       "</table>\n",
       "</div>"
      ],
      "text/plain": [
       "    a   c\n",
       "0  11  10\n",
       "1   2  52\n",
       "2   7  45"
      ]
     },
     "metadata": {},
     "output_type": "display_data"
    },
    {
     "data": {
      "text/plain": [
       "{'feature': 'c', 'split': 52, 'cost': 18.0}"
      ]
     },
     "execution_count": 144,
     "metadata": {},
     "output_type": "execute_result"
    }
   ],
   "source": [
    "display(y_toy)\n",
    "display(X_toy)\n",
    "\n",
    "select_node(get_split_costs(toy_data))\n",
    "\n",
    "\n"
   ]
  },
  {
   "cell_type": "code",
   "execution_count": 16,
   "metadata": {},
   "outputs": [
    {
     "data": {
      "text/html": [
       "<div>\n",
       "<style scoped>\n",
       "    .dataframe tbody tr th:only-of-type {\n",
       "        vertical-align: middle;\n",
       "    }\n",
       "\n",
       "    .dataframe tbody tr th {\n",
       "        vertical-align: top;\n",
       "    }\n",
       "\n",
       "    .dataframe thead th {\n",
       "        text-align: right;\n",
       "    }\n",
       "</style>\n",
       "<table border=\"1\" class=\"dataframe\">\n",
       "  <thead>\n",
       "    <tr style=\"text-align: right;\">\n",
       "      <th></th>\n",
       "      <th>y</th>\n",
       "      <th>a</th>\n",
       "      <th>c</th>\n",
       "    </tr>\n",
       "  </thead>\n",
       "  <tbody>\n",
       "    <tr>\n",
       "      <th>1</th>\n",
       "      <td>5</td>\n",
       "      <td>2</td>\n",
       "      <td>52</td>\n",
       "    </tr>\n",
       "    <tr>\n",
       "      <th>2</th>\n",
       "      <td>11</td>\n",
       "      <td>7</td>\n",
       "      <td>45</td>\n",
       "    </tr>\n",
       "  </tbody>\n",
       "</table>\n",
       "</div>"
      ],
      "text/plain": [
       "    y  a   c\n",
       "1   5  2  52\n",
       "2  11  7  45"
      ]
     },
     "metadata": {},
     "output_type": "display_data"
    },
    {
     "data": {
      "text/html": [
       "<div>\n",
       "<style scoped>\n",
       "    .dataframe tbody tr th:only-of-type {\n",
       "        vertical-align: middle;\n",
       "    }\n",
       "\n",
       "    .dataframe tbody tr th {\n",
       "        vertical-align: top;\n",
       "    }\n",
       "\n",
       "    .dataframe thead th {\n",
       "        text-align: right;\n",
       "    }\n",
       "</style>\n",
       "<table border=\"1\" class=\"dataframe\">\n",
       "  <thead>\n",
       "    <tr style=\"text-align: right;\">\n",
       "      <th></th>\n",
       "      <th>y</th>\n",
       "      <th>a</th>\n",
       "      <th>c</th>\n",
       "    </tr>\n",
       "  </thead>\n",
       "  <tbody>\n",
       "    <tr>\n",
       "      <th>0</th>\n",
       "      <td>17</td>\n",
       "      <td>11</td>\n",
       "      <td>10</td>\n",
       "    </tr>\n",
       "  </tbody>\n",
       "</table>\n",
       "</div>"
      ],
      "text/plain": [
       "    y   a   c\n",
       "0  17  11  10"
      ]
     },
     "execution_count": 16,
     "metadata": {},
     "output_type": "execute_result"
    }
   ],
   "source": [
    "toy_left = toy_data.loc[toy_data.loc[:, 'a'] <11, :]\n",
    "display(toy_left)\n",
    "toy_right = toy_data.loc[toy_data.loc[:, 'a'] >= 11, :]\n",
    "toy_right"
   ]
  },
  {
   "cell_type": "code",
   "execution_count": 17,
   "metadata": {},
   "outputs": [
    {
     "data": {
      "text/html": [
       "<div>\n",
       "<style scoped>\n",
       "    .dataframe tbody tr th:only-of-type {\n",
       "        vertical-align: middle;\n",
       "    }\n",
       "\n",
       "    .dataframe tbody tr th {\n",
       "        vertical-align: top;\n",
       "    }\n",
       "\n",
       "    .dataframe thead th {\n",
       "        text-align: right;\n",
       "    }\n",
       "</style>\n",
       "<table border=\"1\" class=\"dataframe\">\n",
       "  <thead>\n",
       "    <tr style=\"text-align: right;\">\n",
       "      <th></th>\n",
       "      <th>y</th>\n",
       "      <th>a</th>\n",
       "      <th>c</th>\n",
       "    </tr>\n",
       "  </thead>\n",
       "  <tbody>\n",
       "    <tr>\n",
       "      <th>1</th>\n",
       "      <td>5</td>\n",
       "      <td>2</td>\n",
       "      <td>52</td>\n",
       "    </tr>\n",
       "    <tr>\n",
       "      <th>2</th>\n",
       "      <td>11</td>\n",
       "      <td>7</td>\n",
       "      <td>45</td>\n",
       "    </tr>\n",
       "  </tbody>\n",
       "</table>\n",
       "</div>"
      ],
      "text/plain": [
       "    y  a   c\n",
       "1   5  2  52\n",
       "2  11  7  45"
      ]
     },
     "metadata": {},
     "output_type": "display_data"
    },
    {
     "data": {
      "text/plain": [
       "[17]"
      ]
     },
     "execution_count": 17,
     "metadata": {},
     "output_type": "execute_result"
    }
   ],
   "source": [
    "display(toy_left)\n",
    "flatten_list(get_split_costs(toy_left.loc[:,'y'], toy_left.loc[:, ['a', 'c']]))\n",
    "\n",
    "flatten_list(get_split_costs(toy_right.loc[:,'y'], toy_right.loc[:, ['a', 'c']]))\n",
    "\n",
    "toy_right_left = toy_right.loc[toy_right.loc[:, 'a'] < 11, :]\n",
    "\n",
    "list(toy_right_left.loc[:, 'y']) + list(toy_right.loc[:, 'y'])"
   ]
  },
  {
   "cell_type": "code",
   "execution_count": 18,
   "metadata": {},
   "outputs": [
    {
     "data": {
      "text/html": [
       "<div>\n",
       "<style scoped>\n",
       "    .dataframe tbody tr th:only-of-type {\n",
       "        vertical-align: middle;\n",
       "    }\n",
       "\n",
       "    .dataframe tbody tr th {\n",
       "        vertical-align: top;\n",
       "    }\n",
       "\n",
       "    .dataframe thead th {\n",
       "        text-align: right;\n",
       "    }\n",
       "</style>\n",
       "<table border=\"1\" class=\"dataframe\">\n",
       "  <thead>\n",
       "    <tr style=\"text-align: right;\">\n",
       "      <th></th>\n",
       "      <th>y</th>\n",
       "      <th>a</th>\n",
       "      <th>c</th>\n",
       "    </tr>\n",
       "  </thead>\n",
       "  <tbody>\n",
       "    <tr>\n",
       "      <th>1</th>\n",
       "      <td>5</td>\n",
       "      <td>2</td>\n",
       "      <td>52</td>\n",
       "    </tr>\n",
       "    <tr>\n",
       "      <th>2</th>\n",
       "      <td>11</td>\n",
       "      <td>7</td>\n",
       "      <td>45</td>\n",
       "    </tr>\n",
       "  </tbody>\n",
       "</table>\n",
       "</div>"
      ],
      "text/plain": [
       "    y  a   c\n",
       "1   5  2  52\n",
       "2  11  7  45"
      ]
     },
     "metadata": {},
     "output_type": "display_data"
    },
    {
     "data": {
      "text/plain": [
       "{'feature': 'c', 'split': 52, 'cost': 0.0}"
      ]
     },
     "execution_count": 18,
     "metadata": {},
     "output_type": "execute_result"
    }
   ],
   "source": [
    "display(toy_left)\n",
    "# select_feature(partitions)\n",
    "\n",
    "select_node(flatten_list(get_split_costs(toy_left.loc[:,'y'], toy_left.loc[:, ['a', 'c']])))\n"
   ]
  },
  {
   "cell_type": "code",
   "execution_count": 19,
   "metadata": {},
   "outputs": [],
   "source": [
    "# tree structure idea\n",
    "\n",
    "# partition :\n",
    "# {'value' : {'feature' : feature, 'split' : split, 'cost' : cost, 'y_left' : y_left, 'y_right' : y_right}, \n",
    "#  'left' : {'value' : {'feature' : feature, 'split' : split, 'cost' : cost, 'y_left' : y_left, 'y_right' : y_right}, \n",
    "#  'left' : {}, 'right' : {}}, 'right' : {'value' : {'feature' : feature, 'split' : split, 'cost' : cost, 'y_left' : y_left, 'y_right' : y_right}, \n",
    "#  'left' : {}, 'right' : {}}\n",
    "# }\n",
    "\n",
    "\n"
   ]
  },
  {
   "cell_type": "code",
   "execution_count": 20,
   "metadata": {},
   "outputs": [
    {
     "data": {
      "text/plain": [
       "{'feature': 'c',\n",
       " 'split': 45,\n",
       " 'cost': 18.0,\n",
       " 'left': 17.0,\n",
       " 'right': {'feature': 'c', 'split': 52, 'cost': 0.0}}"
      ]
     },
     "metadata": {},
     "output_type": "display_data"
    }
   ],
   "source": [
    "# my_toy recursive split function\n",
    "\n",
    "max_depth = 2\n",
    "depth = 1\n",
    "min_size = 1\n",
    "\n",
    "test_partition = select_node(flatten_list(get_split_costs(y_toy,X_toy)))\n",
    "\n",
    "left = y_toy[X_toy.loc[:, test_partition['feature']] < test_partition['split']]\n",
    "right = y_toy[X_toy.loc[:, test_partition['feature']] >= test_partition['split']]\n",
    "\n",
    "\n",
    "if left.empty or right.empty:\n",
    "    test_partition['left'] = test_partition['right'] = terminal_node(left + right)\n",
    "#     return\n",
    "\n",
    "if depth >= max_depth:\n",
    "    test_partition['left'], test_partition['right'] = terminal_node(left), terminal_node(right)\n",
    "#     return\n",
    "\n",
    "if len(left) <= min_size:\n",
    "    test_partition['left'] = terminal_node(left)\n",
    "\n",
    "else:\n",
    "    test_partition['left'] = select_node(flatten_list(\n",
    "        get_split_costs(y_toy[X_toy.loc[:, test_partition['feature']] < test_partition['split']],\n",
    "                            X_toy.loc[X_toy.loc[:, test_partition['feature']] < test_partition['split']]\n",
    "                           )))\n",
    "    \n",
    "if len(right) <= min_size:\n",
    "    test_partition['right'] = terminal_node(right)\n",
    "\n",
    "else:\n",
    "    test_partition['right'] = select_node(flatten_list(\n",
    "        get_split_costs(y_toy[X_toy.loc[:, test_partition['feature']] >= test_partition['split']],\n",
    "                            X_toy.loc[X_toy.loc[:, test_partition['feature']] >= test_partition['split']]\n",
    "                           )))\n",
    "    \n",
    "    \n",
    "\n",
    "    \n",
    "display(test_partition)"
   ]
  },
  {
   "cell_type": "code",
   "execution_count": 16,
   "metadata": {},
   "outputs": [],
   "source": [
    "def recursive_feature_split(y, X, node, max_depth, min_size, depth):\n",
    "    '''recursively applies select_node to the input data and resulting nodes until user \n",
    "       specified limits are reached '''\n",
    "    \n",
    "    left = y[X.loc[:, node['feature']] < node['split']]\n",
    "    right = y[X.loc[:, node['feature']] >= node['split']]\n",
    "\n",
    "    if left.empty or right.empty:\n",
    "        node['left'] = node['right'] = terminal_node(left + right)\n",
    "        return\n",
    "\n",
    "    if depth >= max_depth:\n",
    "        node['left'], node['right'] = terminal_node(left), terminal_node(right)\n",
    "        return\n",
    "\n",
    "    \n",
    "    if len(left) <= min_size:\n",
    "        node['left'] = terminal_node(left)\n",
    "\n",
    "    else:\n",
    "        node['left'] = select_node(\n",
    "            get_split_costs(y[X.loc[:, node['feature']] < node['split']],\n",
    "                                X.loc[X.loc[:, node['feature']] < node['split']]\n",
    "                               ))\n",
    "        recursive_feature_split(y, X, node['left'], max_depth, min_size, depth + 1)\n",
    "\n",
    "    if len(right) <= min_size:\n",
    "        node['right'] = terminal_node(right)\n",
    "\n",
    "    else:\n",
    "        node['right'] = select_node(\n",
    "            get_split_costs(y[X.loc[:, node['feature']] >= node['split']],\n",
    "                                X.loc[X.loc[:, node['feature']] >= node['split']]\n",
    "                               ))\n",
    "        recursive_feature_split(y, X, node['right'], max_depth, min_size, depth + 1)\n",
    "    "
   ]
  },
  {
   "cell_type": "code",
   "execution_count": 17,
   "metadata": {},
   "outputs": [],
   "source": [
    "def grow_tree(y, X, max_depth, min_size):\n",
    "    root = select_node(get_split_costs(y,X))\n",
    "    recursive_feature_split(y, X, root, max_depth, min_size, 1)\n",
    "    return root"
   ]
  },
  {
   "cell_type": "code",
   "execution_count": 369,
   "metadata": {},
   "outputs": [
    {
     "ename": "KeyError",
     "evalue": "'feature'",
     "output_type": "error",
     "traceback": [
      "\u001b[0;31m---------------------------------------------------------------------------\u001b[0m",
      "\u001b[0;31mKeyError\u001b[0m                                  Traceback (most recent call last)",
      "\u001b[0;32m/usr/local/lib/python3.7/site-packages/pandas/core/indexes/base.py\u001b[0m in \u001b[0;36mget_loc\u001b[0;34m(self, key, method, tolerance)\u001b[0m\n\u001b[1;32m   2656\u001b[0m             \u001b[0;32mtry\u001b[0m\u001b[0;34m:\u001b[0m\u001b[0;34m\u001b[0m\u001b[0;34m\u001b[0m\u001b[0m\n\u001b[0;32m-> 2657\u001b[0;31m                 \u001b[0;32mreturn\u001b[0m \u001b[0mself\u001b[0m\u001b[0;34m.\u001b[0m\u001b[0m_engine\u001b[0m\u001b[0;34m.\u001b[0m\u001b[0mget_loc\u001b[0m\u001b[0;34m(\u001b[0m\u001b[0mkey\u001b[0m\u001b[0;34m)\u001b[0m\u001b[0;34m\u001b[0m\u001b[0;34m\u001b[0m\u001b[0m\n\u001b[0m\u001b[1;32m   2658\u001b[0m             \u001b[0;32mexcept\u001b[0m \u001b[0mKeyError\u001b[0m\u001b[0;34m:\u001b[0m\u001b[0;34m\u001b[0m\u001b[0;34m\u001b[0m\u001b[0m\n",
      "\u001b[0;32mpandas/_libs/index.pyx\u001b[0m in \u001b[0;36mpandas._libs.index.IndexEngine.get_loc\u001b[0;34m()\u001b[0m\n",
      "\u001b[0;32mpandas/_libs/index.pyx\u001b[0m in \u001b[0;36mpandas._libs.index.IndexEngine.get_loc\u001b[0;34m()\u001b[0m\n",
      "\u001b[0;32mpandas/_libs/hashtable_class_helper.pxi\u001b[0m in \u001b[0;36mpandas._libs.hashtable.PyObjectHashTable.get_item\u001b[0;34m()\u001b[0m\n",
      "\u001b[0;32mpandas/_libs/hashtable_class_helper.pxi\u001b[0m in \u001b[0;36mpandas._libs.hashtable.PyObjectHashTable.get_item\u001b[0;34m()\u001b[0m\n",
      "\u001b[0;31mKeyError\u001b[0m: 'feature'",
      "\nDuring handling of the above exception, another exception occurred:\n",
      "\u001b[0;31mKeyError\u001b[0m                                  Traceback (most recent call last)",
      "\u001b[0;32m<ipython-input-369-301359226e96>\u001b[0m in \u001b[0;36m<module>\u001b[0;34m\u001b[0m\n\u001b[0;32m----> 1\u001b[0;31m \u001b[0mgrow_tree\u001b[0m\u001b[0;34m(\u001b[0m\u001b[0mtrain\u001b[0m\u001b[0;34m.\u001b[0m\u001b[0mloc\u001b[0m\u001b[0;34m[\u001b[0m\u001b[0;34m:\u001b[0m\u001b[0;34m,\u001b[0m\u001b[0;34m'y'\u001b[0m\u001b[0;34m]\u001b[0m\u001b[0;34m,\u001b[0m \u001b[0mtrain\u001b[0m\u001b[0;34m.\u001b[0m\u001b[0miloc\u001b[0m\u001b[0;34m[\u001b[0m\u001b[0;34m:\u001b[0m\u001b[0;34m,\u001b[0m\u001b[0;34m:\u001b[0m\u001b[0;34m-\u001b[0m\u001b[0;36m1\u001b[0m\u001b[0;34m]\u001b[0m\u001b[0;34m,\u001b[0m \u001b[0;36m3\u001b[0m\u001b[0;34m,\u001b[0m \u001b[0;36m5\u001b[0m\u001b[0;34m)\u001b[0m\u001b[0;34m\u001b[0m\u001b[0;34m\u001b[0m\u001b[0m\n\u001b[0m",
      "\u001b[0;32m<ipython-input-268-11e351f3cc61>\u001b[0m in \u001b[0;36mgrow_tree\u001b[0;34m(df, node, depth, max_depth, min_size)\u001b[0m\n\u001b[1;32m      4\u001b[0m     returns until max depth of min size criteria is met '''\n\u001b[1;32m      5\u001b[0m \u001b[0;34m\u001b[0m\u001b[0m\n\u001b[0;32m----> 6\u001b[0;31m     \u001b[0mleft\u001b[0m \u001b[0;34m=\u001b[0m \u001b[0mdf\u001b[0m\u001b[0;34m.\u001b[0m\u001b[0mloc\u001b[0m\u001b[0;34m[\u001b[0m\u001b[0mdf\u001b[0m\u001b[0;34m.\u001b[0m\u001b[0mloc\u001b[0m\u001b[0;34m[\u001b[0m\u001b[0;34m:\u001b[0m\u001b[0;34m,\u001b[0m \u001b[0mnode\u001b[0m\u001b[0;34m[\u001b[0m\u001b[0;34m'feature'\u001b[0m\u001b[0;34m]\u001b[0m\u001b[0;34m]\u001b[0m \u001b[0;34m<\u001b[0m \u001b[0mnode\u001b[0m\u001b[0;34m[\u001b[0m\u001b[0;34m'split'\u001b[0m\u001b[0;34m]\u001b[0m\u001b[0;34m]\u001b[0m\u001b[0;34m\u001b[0m\u001b[0;34m\u001b[0m\u001b[0m\n\u001b[0m\u001b[1;32m      7\u001b[0m     \u001b[0mright\u001b[0m \u001b[0;34m=\u001b[0m \u001b[0mdf\u001b[0m\u001b[0;34m.\u001b[0m\u001b[0mloc\u001b[0m\u001b[0;34m[\u001b[0m\u001b[0mdf\u001b[0m\u001b[0;34m.\u001b[0m\u001b[0mloc\u001b[0m\u001b[0;34m[\u001b[0m\u001b[0;34m:\u001b[0m\u001b[0;34m,\u001b[0m \u001b[0mnode\u001b[0m\u001b[0;34m[\u001b[0m\u001b[0;34m'feature'\u001b[0m\u001b[0;34m]\u001b[0m\u001b[0;34m]\u001b[0m \u001b[0;34m>=\u001b[0m \u001b[0mnode\u001b[0m\u001b[0;34m[\u001b[0m\u001b[0;34m'split'\u001b[0m\u001b[0;34m]\u001b[0m\u001b[0;34m]\u001b[0m\u001b[0;34m\u001b[0m\u001b[0;34m\u001b[0m\u001b[0m\n\u001b[1;32m      8\u001b[0m \u001b[0;34m\u001b[0m\u001b[0m\n",
      "\u001b[0;32m/usr/local/lib/python3.7/site-packages/pandas/core/frame.py\u001b[0m in \u001b[0;36m__getitem__\u001b[0;34m(self, key)\u001b[0m\n\u001b[1;32m   2925\u001b[0m             \u001b[0;32mif\u001b[0m \u001b[0mself\u001b[0m\u001b[0;34m.\u001b[0m\u001b[0mcolumns\u001b[0m\u001b[0;34m.\u001b[0m\u001b[0mnlevels\u001b[0m \u001b[0;34m>\u001b[0m \u001b[0;36m1\u001b[0m\u001b[0;34m:\u001b[0m\u001b[0;34m\u001b[0m\u001b[0;34m\u001b[0m\u001b[0m\n\u001b[1;32m   2926\u001b[0m                 \u001b[0;32mreturn\u001b[0m \u001b[0mself\u001b[0m\u001b[0;34m.\u001b[0m\u001b[0m_getitem_multilevel\u001b[0m\u001b[0;34m(\u001b[0m\u001b[0mkey\u001b[0m\u001b[0;34m)\u001b[0m\u001b[0;34m\u001b[0m\u001b[0;34m\u001b[0m\u001b[0m\n\u001b[0;32m-> 2927\u001b[0;31m             \u001b[0mindexer\u001b[0m \u001b[0;34m=\u001b[0m \u001b[0mself\u001b[0m\u001b[0;34m.\u001b[0m\u001b[0mcolumns\u001b[0m\u001b[0;34m.\u001b[0m\u001b[0mget_loc\u001b[0m\u001b[0;34m(\u001b[0m\u001b[0mkey\u001b[0m\u001b[0;34m)\u001b[0m\u001b[0;34m\u001b[0m\u001b[0;34m\u001b[0m\u001b[0m\n\u001b[0m\u001b[1;32m   2928\u001b[0m             \u001b[0;32mif\u001b[0m \u001b[0mis_integer\u001b[0m\u001b[0;34m(\u001b[0m\u001b[0mindexer\u001b[0m\u001b[0;34m)\u001b[0m\u001b[0;34m:\u001b[0m\u001b[0;34m\u001b[0m\u001b[0;34m\u001b[0m\u001b[0m\n\u001b[1;32m   2929\u001b[0m                 \u001b[0mindexer\u001b[0m \u001b[0;34m=\u001b[0m \u001b[0;34m[\u001b[0m\u001b[0mindexer\u001b[0m\u001b[0;34m]\u001b[0m\u001b[0;34m\u001b[0m\u001b[0;34m\u001b[0m\u001b[0m\n",
      "\u001b[0;32m/usr/local/lib/python3.7/site-packages/pandas/core/indexes/base.py\u001b[0m in \u001b[0;36mget_loc\u001b[0;34m(self, key, method, tolerance)\u001b[0m\n\u001b[1;32m   2657\u001b[0m                 \u001b[0;32mreturn\u001b[0m \u001b[0mself\u001b[0m\u001b[0;34m.\u001b[0m\u001b[0m_engine\u001b[0m\u001b[0;34m.\u001b[0m\u001b[0mget_loc\u001b[0m\u001b[0;34m(\u001b[0m\u001b[0mkey\u001b[0m\u001b[0;34m)\u001b[0m\u001b[0;34m\u001b[0m\u001b[0;34m\u001b[0m\u001b[0m\n\u001b[1;32m   2658\u001b[0m             \u001b[0;32mexcept\u001b[0m \u001b[0mKeyError\u001b[0m\u001b[0;34m:\u001b[0m\u001b[0;34m\u001b[0m\u001b[0;34m\u001b[0m\u001b[0m\n\u001b[0;32m-> 2659\u001b[0;31m                 \u001b[0;32mreturn\u001b[0m \u001b[0mself\u001b[0m\u001b[0;34m.\u001b[0m\u001b[0m_engine\u001b[0m\u001b[0;34m.\u001b[0m\u001b[0mget_loc\u001b[0m\u001b[0;34m(\u001b[0m\u001b[0mself\u001b[0m\u001b[0;34m.\u001b[0m\u001b[0m_maybe_cast_indexer\u001b[0m\u001b[0;34m(\u001b[0m\u001b[0mkey\u001b[0m\u001b[0;34m)\u001b[0m\u001b[0;34m)\u001b[0m\u001b[0;34m\u001b[0m\u001b[0;34m\u001b[0m\u001b[0m\n\u001b[0m\u001b[1;32m   2660\u001b[0m         \u001b[0mindexer\u001b[0m \u001b[0;34m=\u001b[0m \u001b[0mself\u001b[0m\u001b[0;34m.\u001b[0m\u001b[0mget_indexer\u001b[0m\u001b[0;34m(\u001b[0m\u001b[0;34m[\u001b[0m\u001b[0mkey\u001b[0m\u001b[0;34m]\u001b[0m\u001b[0;34m,\u001b[0m \u001b[0mmethod\u001b[0m\u001b[0;34m=\u001b[0m\u001b[0mmethod\u001b[0m\u001b[0;34m,\u001b[0m \u001b[0mtolerance\u001b[0m\u001b[0;34m=\u001b[0m\u001b[0mtolerance\u001b[0m\u001b[0;34m)\u001b[0m\u001b[0;34m\u001b[0m\u001b[0;34m\u001b[0m\u001b[0m\n\u001b[1;32m   2661\u001b[0m         \u001b[0;32mif\u001b[0m \u001b[0mindexer\u001b[0m\u001b[0;34m.\u001b[0m\u001b[0mndim\u001b[0m \u001b[0;34m>\u001b[0m \u001b[0;36m1\u001b[0m \u001b[0;32mor\u001b[0m \u001b[0mindexer\u001b[0m\u001b[0;34m.\u001b[0m\u001b[0msize\u001b[0m \u001b[0;34m>\u001b[0m \u001b[0;36m1\u001b[0m\u001b[0;34m:\u001b[0m\u001b[0;34m\u001b[0m\u001b[0;34m\u001b[0m\u001b[0m\n",
      "\u001b[0;32mpandas/_libs/index.pyx\u001b[0m in \u001b[0;36mpandas._libs.index.IndexEngine.get_loc\u001b[0;34m()\u001b[0m\n",
      "\u001b[0;32mpandas/_libs/index.pyx\u001b[0m in \u001b[0;36mpandas._libs.index.IndexEngine.get_loc\u001b[0;34m()\u001b[0m\n",
      "\u001b[0;32mpandas/_libs/hashtable_class_helper.pxi\u001b[0m in \u001b[0;36mpandas._libs.hashtable.PyObjectHashTable.get_item\u001b[0;34m()\u001b[0m\n",
      "\u001b[0;32mpandas/_libs/hashtable_class_helper.pxi\u001b[0m in \u001b[0;36mpandas._libs.hashtable.PyObjectHashTable.get_item\u001b[0;34m()\u001b[0m\n",
      "\u001b[0;31mKeyError\u001b[0m: 'feature'"
     ]
    }
   ],
   "source": [
    "grow_tree(train.loc[:,'y'], train.iloc[:,:-1], 3, 5)"
   ]
  },
  {
   "cell_type": "code",
   "execution_count": 24,
   "metadata": {},
   "outputs": [
    {
     "name": "stdout",
     "output_type": "stream",
     "text": [
      "L3\n"
     ]
    }
   ],
   "source": [
    "def rec(depth, direction='L'):\n",
    "    if depth >= 3:\n",
    "        return direction+str(depth)\n",
    "\n",
    "    return [direction+str(depth), rec(depth+1, 'L'), rec(depth+1, 'R')]\n",
    "\n",
    "test = rec(3)\n",
    "\n",
    "print(test)"
   ]
  },
  {
   "cell_type": "code",
   "execution_count": 18,
   "metadata": {},
   "outputs": [],
   "source": [
    "def grow_tree(df, node, depth, max_depth = 1, min_size = 5 ):\n",
    "    \n",
    "    ''' recursively grow a decision tree by applying the function to each node it \n",
    "    returns until max depth of min size criteria is met '''\n",
    "    \n",
    "    left = df.loc[df.loc[:, node['feature']] < node['split']]\n",
    "    right = df.loc[df.loc[:, node['feature']] >= node['split']]\n",
    "    \n",
    "    if left.empty or right.empty:\n",
    "        return terminal_node(list(left.iloc[:, -1]) + list(right.iloc[:, -1]))\n",
    "        \n",
    "    elif depth >= max_depth:\n",
    "        return {'node': node, \n",
    "                'left': terminal_node(left.iloc[:, -1]), \n",
    "                'right': terminal_node(right.iloc[:, -1])}\n",
    "    \n",
    "    else:\n",
    "        return {'node' : node,\n",
    "                \n",
    "                'left' : (lambda x: terminal_node(list(x.iloc[:, -1])) \n",
    "                          if len(x.iloc[:, -1]) <= min_size\n",
    "                          else grow_tree(x, select_node(get_split_costs(x)),\n",
    "                                        depth + 1, max_depth, min_size))(left),\n",
    "                \n",
    "                'right' : (lambda x: terminal_node(list(x.iloc[:, -1])) \n",
    "                           if len(x.iloc[:, -1]) <= min_size \n",
    "                           else grow_tree(x, select_node(get_split_costs(x)),\n",
    "                                        depth + 1, max_depth, min_size))(right)\n",
    "               }\n",
    "    \n",
    "    "
   ]
  },
  {
   "cell_type": "code",
   "execution_count": 371,
   "metadata": {},
   "outputs": [
    {
     "data": {
      "text/plain": [
       "{'node': {'feature': 'a', 'split': 53, 'cost': 72.0},\n",
       " 'left': 15.0,\n",
       " 'right': 36.0}"
      ]
     },
     "execution_count": 371,
     "metadata": {},
     "output_type": "execute_result"
    }
   ],
   "source": [
    "(lambda x: terminal_node(list(x.iloc[:, -1])) if len(x.iloc[:, -1]) <= 1 \n",
    "                         else grow_tree(x, select_node(get_split_costs(x)),\n",
    "                                        depth + 1, max_depth, min_size))(toy_data)\n",
    "\n",
    "# len(toy_data.iloc[:, -1])"
   ]
  },
  {
   "cell_type": "code",
   "execution_count": 372,
   "metadata": {},
   "outputs": [
    {
     "data": {
      "text/plain": [
       "{'node': {'feature': 'a', 'split': 53, 'cost': 72.0},\n",
       " 'left': 15.0,\n",
       " 'right': 36.0}"
      ]
     },
     "execution_count": 372,
     "metadata": {},
     "output_type": "execute_result"
    }
   ],
   "source": [
    "grow_tree(toy_data,select_node(get_split_costs(toy_data)), 1, 3, 4)"
   ]
  },
  {
   "cell_type": "code",
   "execution_count": 326,
   "metadata": {},
   "outputs": [
    {
     "data": {
      "text/html": [
       "<div>\n",
       "<style scoped>\n",
       "    .dataframe tbody tr th:only-of-type {\n",
       "        vertical-align: middle;\n",
       "    }\n",
       "\n",
       "    .dataframe tbody tr th {\n",
       "        vertical-align: top;\n",
       "    }\n",
       "\n",
       "    .dataframe thead th {\n",
       "        text-align: right;\n",
       "    }\n",
       "</style>\n",
       "<table border=\"1\" class=\"dataframe\">\n",
       "  <thead>\n",
       "    <tr style=\"text-align: right;\">\n",
       "      <th></th>\n",
       "      <th>a</th>\n",
       "      <th>c</th>\n",
       "      <th>y</th>\n",
       "    </tr>\n",
       "  </thead>\n",
       "  <tbody>\n",
       "    <tr>\n",
       "      <th>0</th>\n",
       "      <td>44</td>\n",
       "      <td>0</td>\n",
       "      <td>9</td>\n",
       "    </tr>\n",
       "    <tr>\n",
       "      <th>1</th>\n",
       "      <td>47</td>\n",
       "      <td>3</td>\n",
       "      <td>21</td>\n",
       "    </tr>\n",
       "    <tr>\n",
       "      <th>2</th>\n",
       "      <td>53</td>\n",
       "      <td>3</td>\n",
       "      <td>36</td>\n",
       "    </tr>\n",
       "  </tbody>\n",
       "</table>\n",
       "</div>"
      ],
      "text/plain": [
       "    a  c   y\n",
       "0  44  0   9\n",
       "1  47  3  21\n",
       "2  53  3  36"
      ]
     },
     "execution_count": 326,
     "metadata": {},
     "output_type": "execute_result"
    }
   ],
   "source": [
    "toy_data"
   ]
  },
  {
   "cell_type": "markdown",
   "metadata": {},
   "source": [
    "### bootstrap n samples from my training data"
   ]
  },
  {
   "cell_type": "code",
   "execution_count": 34,
   "metadata": {},
   "outputs": [],
   "source": [
    "no_of_samples = 10\n",
    "sample_size = len(toy_data.loc[:, 'y'])\n",
    "toy_bootstrap = np.random.choice(toy_data.loc[:, 'y'], (no_of_samples, sample_size),\n",
    "                                 replace=True)"
   ]
  },
  {
   "cell_type": "markdown",
   "metadata": {},
   "source": [
    "### integrate the bootstraped sample into my random forst tree method\n",
    "* I want to bootstrap 1 sample and grow one tree, bootstrap the next sample, grow the next ree, etc."
   ]
  },
  {
   "cell_type": "code",
   "execution_count": 19,
   "metadata": {},
   "outputs": [],
   "source": [
    "def bootstrap(df, random_state):\n",
    "    return df.sample(len(df), replace = True, random_state = random_state)"
   ]
  },
  {
   "cell_type": "code",
   "execution_count": 377,
   "metadata": {},
   "outputs": [
    {
     "data": {
      "text/html": [
       "<div>\n",
       "<style scoped>\n",
       "    .dataframe tbody tr th:only-of-type {\n",
       "        vertical-align: middle;\n",
       "    }\n",
       "\n",
       "    .dataframe tbody tr th {\n",
       "        vertical-align: top;\n",
       "    }\n",
       "\n",
       "    .dataframe thead th {\n",
       "        text-align: right;\n",
       "    }\n",
       "</style>\n",
       "<table border=\"1\" class=\"dataframe\">\n",
       "  <thead>\n",
       "    <tr style=\"text-align: right;\">\n",
       "      <th></th>\n",
       "      <th>a</th>\n",
       "      <th>c</th>\n",
       "      <th>y</th>\n",
       "    </tr>\n",
       "  </thead>\n",
       "  <tbody>\n",
       "    <tr>\n",
       "      <th>1</th>\n",
       "      <td>47</td>\n",
       "      <td>3</td>\n",
       "      <td>21</td>\n",
       "    </tr>\n",
       "    <tr>\n",
       "      <th>0</th>\n",
       "      <td>44</td>\n",
       "      <td>0</td>\n",
       "      <td>9</td>\n",
       "    </tr>\n",
       "    <tr>\n",
       "      <th>0</th>\n",
       "      <td>44</td>\n",
       "      <td>0</td>\n",
       "      <td>9</td>\n",
       "    </tr>\n",
       "  </tbody>\n",
       "</table>\n",
       "</div>"
      ],
      "text/plain": [
       "    a  c   y\n",
       "1  47  3  21\n",
       "0  44  0   9\n",
       "0  44  0   9"
      ]
     },
     "execution_count": 377,
     "metadata": {},
     "output_type": "execute_result"
    }
   ],
   "source": [
    "bootstrap(toy_data, 1)"
   ]
  },
  {
   "cell_type": "code",
   "execution_count": 379,
   "metadata": {},
   "outputs": [
    {
     "data": {
      "text/plain": [
       "{'node': {'feature': 'RM', 'split': 6.8, 'cost': 23810.56028210336},\n",
       " 'left': {'node': {'feature': 'AGE',\n",
       "   'split': 70.6,\n",
       "   'cost': 14485.878335251247},\n",
       "  'left': 22.659493670886075,\n",
       "  'right': 17.430303030303033},\n",
       " 'right': {'node': {'feature': 'RM',\n",
       "   'split': 7.454,\n",
       "   'cost': 3163.3206699928724},\n",
       "  'left': 30.46229508196721,\n",
       "  'right': 44.85217391304347}}"
      ]
     },
     "execution_count": 379,
     "metadata": {},
     "output_type": "execute_result"
    }
   ],
   "source": [
    "grow_tree(bootstrap(train, 1), \n",
    "          select_node(get_split_costs(bootstrap(train, 1))), 1, 2, 1)"
   ]
  },
  {
   "cell_type": "code",
   "execution_count": 20,
   "metadata": {},
   "outputs": [],
   "source": [
    "# random forest idea\n",
    "    # create bootstrap samples\n",
    "    # create a tree for each sample\n",
    "\n",
    "def grow_forest(df, max_depth = 1, min_size = 5, no_of_trees = 10):  \n",
    "    \n",
    "    ''' grow a forest by growing a random forest tree for each of B bootstrapped samples'''\n",
    "    \n",
    "    return [grow_tree(\n",
    "        bootstrap(df, i), select_node( get_split_costs(bootstrap(df, i))),\n",
    "        1, max_depth, min_size) for i in range(0, no_of_trees)]\n",
    "\n"
   ]
  },
  {
   "cell_type": "code",
   "execution_count": 21,
   "metadata": {
    "scrolled": true
   },
   "outputs": [
    {
     "data": {
      "text/plain": [
       "[{'node': {'feature': 'a', 'split': 3, 'cost': 4596.0},\n",
       "  'left': 77.0,\n",
       "  'right': {'node': {'feature': 'c', 'split': 2, 'cost': 3745.5},\n",
       "   'left': 69.0,\n",
       "   'right': {'node': {'feature': 'a', 'split': 21, 'cost': 3408.0},\n",
       "    'left': 30.0,\n",
       "    'right': 45.0}}},\n",
       " {'node': {'feature': 'a', 'split': 9, 'cost': 1856.875},\n",
       "  'left': 9.0,\n",
       "  'right': {'node': {'feature': 'c', 'split': 10, 'cost': 887.4285714285714},\n",
       "   'left': {'node': {'feature': 'a', 'split': 44, 'cost': 332.0},\n",
       "    'left': 61.0,\n",
       "    'right': 43.0},\n",
       "   'right': 20.0}},\n",
       " {'node': {'feature': 'c', 'split': 4, 'cost': 2884.222222222222},\n",
       "  'left': 69.0,\n",
       "  'right': {'node': {'feature': 'a', 'split': 39, 'cost': 2191.95},\n",
       "   'left': 44.4,\n",
       "   'right': 26.75}},\n",
       " {'node': {'feature': 'a', 'split': 3, 'cost': 2294.0},\n",
       "  'left': 77.0,\n",
       "  'right': {'node': {'feature': 'a', 'split': 19, 'cost': 510.8571428571429},\n",
       "   'left': 9.0,\n",
       "   'right': {'node': {'feature': 'c', 'split': 7, 'cost': 0.75},\n",
       "    'left': 46.75,\n",
       "    'right': 64.0}}},\n",
       " {'node': {'feature': 'a', 'split': 9, 'cost': 2216.888888888889},\n",
       "  'left': 9.0,\n",
       "  'right': {'node': {'feature': 'c', 'split': 4, 'cost': 828.0},\n",
       "   'left': 69.0,\n",
       "   'right': 44.0}},\n",
       " {'node': {'feature': 'a', 'split': 39, 'cost': 1342.0},\n",
       "  'left': 65.8,\n",
       "  'right': 35.6},\n",
       " {'node': {'feature': 'c', 'split': 6, 'cost': 217.58333333333331},\n",
       "  'left': 39.25,\n",
       "  'right': {'node': {'feature': 'a', 'split': 21, 'cost': 16.666666666666664},\n",
       "   'left': 73.66666666666667,\n",
       "   'right': 64.0}},\n",
       " {'node': {'feature': 'c', 'split': 10, 'cost': 652.2222222222223},\n",
       "  'left': {'node': {'feature': 'c', 'split': 8, 'cost': 630.0},\n",
       "   'left': {'node': {'feature': 'a', 'split': 19, 'cost': 269.4666666666667},\n",
       "    'left': 72.2,\n",
       "    'right': 58.333333333333336},\n",
       "   'right': 72.0},\n",
       "  'right': 20.0},\n",
       " {'node': {'feature': 'c', 'split': 8, 'cost': 4213.714285714285},\n",
       "  'left': {'node': {'feature': 'c', 'split': 6, 'cost': 943.7},\n",
       "   'left': 41.5,\n",
       "   'right': 62.4},\n",
       "  'right': 30.0},\n",
       " {'node': {'feature': 'a', 'split': 39, 'cost': 2382.0},\n",
       "  'left': 44.4,\n",
       "  'right': 26.8},\n",
       " {'node': {'feature': 'c', 'split': 7, 'cost': 162.83333333333331},\n",
       "  'left': {'node': {'feature': 'c', 'split': 4, 'cost': 66.66666666666667},\n",
       "   'left': 46.0,\n",
       "   'right': 40.333333333333336},\n",
       "  'right': 66.0},\n",
       " {'node': {'feature': 'c', 'split': 2, 'cost': 878.0},\n",
       "  'left': 69.0,\n",
       "  'right': {'node': {'feature': 'a', 'split': 47, 'cost': 348.79999999999995},\n",
       "   'left': 49.8,\n",
       "   'right': 33.0}},\n",
       " {'node': {'feature': 'a', 'split': 3, 'cost': 2699.5},\n",
       "  'left': 77.0,\n",
       "  'right': {'node': {'feature': 'a', 'split': 39, 'cost': 2559.3333333333335},\n",
       "   'left': 40.5,\n",
       "   'right': {'node': {'feature': 'a', 'split': 44, 'cost': 222.75},\n",
       "    'left': 20.0,\n",
       "    'right': 36.25}}},\n",
       " {'node': {'feature': 'a', 'split': 39, 'cost': 765.5833333333334},\n",
       "  'left': 71.25,\n",
       "  'right': {'node': {'feature': 'a', 'split': 53, 'cost': 450.66666666666663},\n",
       "   'left': 37.333333333333336,\n",
       "   'right': 25.0}},\n",
       " {'node': {'feature': 'c', 'split': 10, 'cost': 700.0},\n",
       "  'left': {'node': {'feature': 'c', 'split': 2, 'cost': 361.2},\n",
       "   'left': 69.0,\n",
       "   'right': 53.6},\n",
       "  'right': 20.0},\n",
       " {'node': {'feature': 'c', 'split': 8, 'cost': 1139.5833333333335},\n",
       "  'left': {'node': {'feature': 'a', 'split': 19, 'cost': 60.66666666666667},\n",
       "   'left': 69.0,\n",
       "   'right': 43.333333333333336},\n",
       "  'right': 11.75},\n",
       " {'node': {'feature': 'a', 'split': 44, 'cost': 3048.0},\n",
       "  'left': {'node': {'feature': 'a', 'split': 21, 'cost': 2658.0},\n",
       "   'left': 50.0,\n",
       "   'right': 64.0},\n",
       "  'right': 43.0},\n",
       " {'node': {'feature': 'c', 'split': 10, 'cost': 1179.4285714285716},\n",
       "  'left': {'node': {'feature': 'c', 'split': 7, 'cost': 839.4166666666666},\n",
       "   'left': 55.25,\n",
       "   'right': 69.33333333333333},\n",
       "  'right': 20.0},\n",
       " {'node': {'feature': 'a', 'split': 3, 'cost': 1387.5555555555557},\n",
       "  'left': 77.0,\n",
       "  'right': {'node': {'feature': 'c', 'split': 7, 'cost': 312.0},\n",
       "   'left': 43.0,\n",
       "   'right': 21.0}},\n",
       " {'node': {'feature': 'c', 'split': 7, 'cost': 3331.7142857142853},\n",
       "  'left': 57.0,\n",
       "  'right': {'node': {'feature': 'a', 'split': 39, 'cost': 2664.75},\n",
       "   'left': 30.0,\n",
       "   'right': 23.75}},\n",
       " {'node': {'feature': 'c', 'split': 10, 'cost': 4090.875},\n",
       "  'left': {'node': {'feature': 'a', 'split': 53, 'cost': 3310.8571428571427},\n",
       "   'left': {'node': {'feature': 'c', 'split': 8, 'cost': 2733.7},\n",
       "    'left': 60.6,\n",
       "    'right': 40.5},\n",
       "   'right': 25.0},\n",
       "  'right': 20.0},\n",
       " {'node': {'feature': 'c', 'split': 8, 'cost': 1756.2222222222222},\n",
       "  'left': {'node': {'feature': 'a', 'split': 19, 'cost': 838.875},\n",
       "   'left': 77.0,\n",
       "   'right': {'node': {'feature': 'c', 'split': 6, 'cost': 822.0},\n",
       "    'left': 43.0,\n",
       "    'right': 46.0}},\n",
       "  'right': 72.0},\n",
       " {'node': {'feature': 'a', 'split': 39, 'cost': 3764.0833333333326},\n",
       "  'left': {'node': {'feature': 'c', 'split': 8, 'cost': 3175.2000000000007},\n",
       "   'left': 47.0,\n",
       "   'right': 59.4},\n",
       "  'right': 27.75},\n",
       " {'node': {'feature': 'a', 'split': 39, 'cost': 939.7142857142857},\n",
       "  'left': {'node': {'feature': 'c', 'split': 6, 'cost': 905.3333333333335},\n",
       "   'left': 69.0,\n",
       "   'right': {'node': {'feature': 'a', 'split': 19, 'cost': 289.0},\n",
       "    'left': 77.0,\n",
       "    'right': 55.5}},\n",
       "  'right': 20.0},\n",
       " {'node': {'feature': 'c', 'split': 6, 'cost': 2754.0},\n",
       "  'left': 45.2,\n",
       "  'right': 64.6},\n",
       " {'node': {'feature': 'a', 'split': 39, 'cost': 3419.5238095238096},\n",
       "  'left': {'node': {'feature': 'c', 'split': 6, 'cost': 3122.0},\n",
       "   'left': 69.0,\n",
       "   'right': {'node': {'feature': 'a', 'split': 21, 'cost': 3045.2},\n",
       "    'left': 54.4,\n",
       "    'right': 64.0}},\n",
       "  'right': 27.333333333333332},\n",
       " {'node': {'feature': 'a', 'split': 3, 'cost': 2844.0},\n",
       "  'left': 77.0,\n",
       "  'right': {'node': {'feature': 'a', 'split': 44, 'cost': 2703.55},\n",
       "   'left': 30.25,\n",
       "   'right': 38.2}},\n",
       " {'node': {'feature': 'c', 'split': 8, 'cost': 1752.2222222222222},\n",
       "  'left': {'node': {'feature': 'c', 'split': 6, 'cost': 1624.2142857142856},\n",
       "   'left': 41.5,\n",
       "   'right': {'node': {'feature': 'a', 'split': 19, 'cost': 768.8333333333333},\n",
       "    'left': 77.0,\n",
       "    'right': 46.166666666666664}},\n",
       "  'right': 9.0},\n",
       " {'node': {'feature': 'c', 'split': 8, 'cost': 3858.3809523809523},\n",
       "  'left': {'node': {'feature': 'c', 'split': 6, 'cost': 673.6666666666667},\n",
       "   'left': 49.5,\n",
       "   'right': 72.66666666666667},\n",
       "  'right': 33.666666666666664},\n",
       " {'node': {'feature': 'c', 'split': 8, 'cost': 2432.0},\n",
       "  'left': {'node': {'feature': 'c', 'split': 6, 'cost': 2109.3333333333335},\n",
       "   'left': 41.5,\n",
       "   'right': {'node': {'feature': 'c', 'split': 7, 'cost': 1660.5},\n",
       "    'left': 62.0,\n",
       "    'right': 44.5}},\n",
       "  'right': 9.0},\n",
       " {'node': {'feature': 'a', 'split': 3, 'cost': 6398.0},\n",
       "  'left': 77.0,\n",
       "  'right': {'node': {'feature': 'a', 'split': 9, 'cost': 4649.55},\n",
       "   'left': 24.75,\n",
       "   'right': 52.8}},\n",
       " {'node': {'feature': 'c', 'split': 2, 'cost': 1699.5},\n",
       "  'left': 69.0,\n",
       "  'right': {'node': {'feature': 'a', 'split': 39, 'cost': 473.7142857142857},\n",
       "   'left': 64.0,\n",
       "   'right': {'node': {'feature': 'a', 'split': 44, 'cost': 352.79999999999995},\n",
       "    'left': 20.0,\n",
       "    'right': 29.2}}},\n",
       " {'node': {'feature': 'a', 'split': 3, 'cost': 5084.875},\n",
       "  'left': 77.0,\n",
       "  'right': {'node': {'feature': 'a', 'split': 9, 'cost': 1841.5},\n",
       "   'left': 9.0,\n",
       "   'right': {'node': {'feature': 'c', 'split': 10, 'cost': 329.2},\n",
       "    'left': 62.6,\n",
       "    'right': 20.0}}},\n",
       " {'node': {'feature': 'a', 'split': 39, 'cost': 663.5238095238094},\n",
       "  'left': {'node': {'feature': 'a', 'split': 19, 'cost': 239.41666666666666},\n",
       "   'left': 73.75,\n",
       "   'right': 58.333333333333336},\n",
       "  'right': 23.333333333333332},\n",
       " {'node': {'feature': 'c', 'split': 8, 'cost': 4612.333333333334},\n",
       "  'left': {'node': {'feature': 'c', 'split': 6, 'cost': 1609.2},\n",
       "   'left': 37.0,\n",
       "   'right': 55.4},\n",
       "  'right': 27.5},\n",
       " {'node': {'feature': 'c', 'split': 2, 'cost': 768.0},\n",
       "  'left': 69.0,\n",
       "  'right': {'node': {'feature': 'a', 'split': 44, 'cost': 474.0},\n",
       "   'left': {'node': {'feature': 'a', 'split': 21, 'cost': 0.0},\n",
       "    'left': 47.0,\n",
       "    'right': 64.0},\n",
       "   'right': 41.5}},\n",
       " {'node': {'feature': 'c', 'split': 8, 'cost': 4073.0},\n",
       "  'left': {'node': {'feature': 'a', 'split': 47, 'cost': 485.0},\n",
       "   'left': 56.5,\n",
       "   'right': 31.0},\n",
       "  'right': 27.5},\n",
       " {'node': {'feature': 'a', 'split': 3, 'cost': 3774.875},\n",
       "  'left': 77.0,\n",
       "  'right': {'node': {'feature': 'c', 'split': 8, 'cost': 453.75},\n",
       "   'left': 52.5,\n",
       "   'right': 11.75}},\n",
       " {'node': {'feature': 'c', 'split': 2, 'cost': 4002.8888888888887},\n",
       "  'left': 69.0,\n",
       "  'right': {'node': {'feature': 'c', 'split': 6, 'cost': 3773.95},\n",
       "   'left': 39.25,\n",
       "   'right': 49.4}},\n",
       " {'node': {'feature': 'a', 'split': 39, 'cost': 1016.0952380952381},\n",
       "  'left': {'node': {'feature': 'a', 'split': 19, 'cost': 233.41666666666666},\n",
       "   'left': 73.66666666666667,\n",
       "   'right': 59.75},\n",
       "  'right': 37.333333333333336},\n",
       " {'node': {'feature': 'c', 'split': 7, 'cost': 1456.0833333333333},\n",
       "  'left': {'node': {'feature': 'c', 'split': 4, 'cost': 900.0},\n",
       "   'left': 69.0,\n",
       "   'right': 52.0},\n",
       "  'right': 19.75},\n",
       " {'node': {'feature': 'c', 'split': 8, 'cost': 2689.5555555555557},\n",
       "  'left': {'node': {'feature': 'a', 'split': 19, 'cost': 869.5000000000001},\n",
       "   'left': 74.33333333333333,\n",
       "   'right': {'node': {'feature': 'a', 'split': 47, 'cost': 306.75},\n",
       "    'left': 50.75,\n",
       "    'right': 31.0}},\n",
       "  'right': 9.0},\n",
       " {'node': {'feature': 'a', 'split': 39, 'cost': 112.25},\n",
       "  'left': {'node': {'feature': 'c', 'split': 7, 'cost': 85.33333333333333},\n",
       "   'left': 71.66666666666667,\n",
       "   'right': 69.33333333333333},\n",
       "  'right': 21.25},\n",
       " {'node': {'feature': 'a', 'split': 3, 'cost': 3096.0},\n",
       "  'left': 77.0,\n",
       "  'right': {'node': {'feature': 'c', 'split': 2, 'cost': 2335.5},\n",
       "   'left': 69.0,\n",
       "   'right': {'node': {'feature': 'a', 'split': 53, 'cost': 2086.857142857143},\n",
       "    'left': 41.857142857142854,\n",
       "    'right': 25.0}}},\n",
       " {'node': {'feature': 'c', 'split': 6, 'cost': 1480.0833333333335},\n",
       "  'left': 55.25,\n",
       "  'right': {'node': {'feature': 'c', 'split': 8, 'cost': 675.0},\n",
       "   'left': 69.5,\n",
       "   'right': 72.0}},\n",
       " {'node': {'feature': 'c', 'split': 8, 'cost': 4140.857142857143},\n",
       "  'left': {'node': {'feature': 'a', 'split': 19, 'cost': 573.2},\n",
       "   'left': 77.0,\n",
       "   'right': 51.6},\n",
       "  'right': 30.0},\n",
       " {'node': {'feature': 'a', 'split': 53, 'cost': 3283.875},\n",
       "  'left': {'node': {'feature': 'c', 'split': 2, 'cost': 2938.857142857143},\n",
       "   'left': 69.0,\n",
       "   'right': {'node': {'feature': 'a', 'split': 3, 'cost': 2033.5},\n",
       "    'left': 77.0,\n",
       "    'right': 44.5}},\n",
       "  'right': 25.0},\n",
       " {'node': {'feature': 'c', 'split': 10, 'cost': 1342.8888888888891},\n",
       "  'left': {'node': {'feature': 'a', 'split': 19, 'cost': 52.199999999999996},\n",
       "   'left': 70.6,\n",
       "   'right': 46.5},\n",
       "  'right': 20.0},\n",
       " {'node': {'feature': 'c', 'split': 10, 'cost': 2067.875},\n",
       "  'left': {'node': {'feature': 'a', 'split': 44, 'cost': 384.5},\n",
       "   'left': 74.5,\n",
       "   'right': {'node': {'feature': 'c', 'split': 7, 'cost': 64.8},\n",
       "    'left': 44.2,\n",
       "    'right': 25.0}},\n",
       "  'right': 20.0},\n",
       " {'node': {'feature': 'c', 'split': 7, 'cost': 5050.875},\n",
       "  'left': 42.0,\n",
       "  'right': {'node': {'feature': 'c', 'split': 10, 'cost': 4883.714285714286},\n",
       "   'left': {'node': {'feature': 'c', 'split': 8, 'cost': 4762.799999999999},\n",
       "    'left': 25.0,\n",
       "    'right': 34.2},\n",
       "   'right': 20.0}},\n",
       " {'node': {'feature': 'a', 'split': 44, 'cost': 3093.0},\n",
       "  'left': {'node': {'feature': 'a', 'split': 39, 'cost': 2646.0},\n",
       "   'left': 30.0,\n",
       "   'right': 20.0},\n",
       "  'right': 38.5},\n",
       " {'node': {'feature': 'a', 'split': 21, 'cost': 3564.0000000000005},\n",
       "  'left': 21.6,\n",
       "  'right': 56.8},\n",
       " {'node': {'feature': 'c', 'split': 8, 'cost': 1688.3809523809525},\n",
       "  'left': {'node': {'feature': 'a', 'split': 44, 'cost': 117.30000000000001},\n",
       "   'left': 73.8,\n",
       "   'right': 41.5},\n",
       "  'right': 12.666666666666666},\n",
       " {'node': {'feature': 'a', 'split': 19, 'cost': 4726.083333333333},\n",
       "  'left': 24.75,\n",
       "  'right': {'node': {'feature': 'c', 'split': 10, 'cost': 1038.8},\n",
       "   'left': 49.2,\n",
       "   'right': 20.0}},\n",
       " {'node': {'feature': 'c', 'split': 8, 'cost': 1962.0},\n",
       "  'left': {'node': {'feature': 'a', 'split': 44, 'cost': 549.5},\n",
       "   'left': 62.25,\n",
       "   'right': 36.25},\n",
       "  'right': 14.5},\n",
       " {'node': {'feature': 'c', 'split': 8, 'cost': 1482.6666666666667},\n",
       "  'left': {'node': {'feature': 'a', 'split': 19, 'cost': 113.41666666666666},\n",
       "   'left': 71.66666666666667,\n",
       "   'right': 44.25},\n",
       "  'right': 12.666666666666666},\n",
       " {'node': {'feature': 'c', 'split': 10, 'cost': 4226.222222222223},\n",
       "  'left': {'node': {'feature': 'c', 'split': 2, 'cost': 3681.428571428571},\n",
       "   'left': 69.0,\n",
       "   'right': {'node': {'feature': 'c', 'split': 7, 'cost': 3660.0},\n",
       "    'left': 46.0,\n",
       "    'right': 51.0}},\n",
       "  'right': 20.0},\n",
       " {'node': {'feature': 'c', 'split': 8, 'cost': 1430.6666666666667},\n",
       "  'left': {'node': {'feature': 'c', 'split': 4, 'cost': 835.5},\n",
       "   'left': 69.0,\n",
       "   'right': {'node': {'feature': 'a', 'split': 47, 'cost': 288.75},\n",
       "    'left': 51.25,\n",
       "    'right': 31.0}},\n",
       "  'right': 16.333333333333332},\n",
       " {'node': {'feature': 'a', 'split': 3, 'cost': 4671.5},\n",
       "  'left': 77.0,\n",
       "  'right': {'node': {'feature': 'c', 'split': 8, 'cost': 3404.0},\n",
       "   'left': 56.0,\n",
       "   'right': 30.0}},\n",
       " {'node': {'feature': 'a', 'split': 3, 'cost': 2994.0},\n",
       "  'left': 77.0,\n",
       "  'right': {'node': {'feature': 'c', 'split': 8, 'cost': 1025.7142857142858},\n",
       "   'left': {'node': {'feature': 'c', 'split': 2, 'cost': 583.2},\n",
       "    'left': 69.0,\n",
       "    'right': 51.4},\n",
       "   'right': 9.0}},\n",
       " {'node': {'feature': 'a', 'split': 39, 'cost': 985.5999999999999},\n",
       "  'left': 60.8,\n",
       "  'right': 31.2},\n",
       " {'node': {'feature': 'c', 'split': 7, 'cost': 1619.5},\n",
       "  'left': {'node': {'feature': 'c', 'split': 6, 'cost': 796.75},\n",
       "   'left': 55.25,\n",
       "   'right': 77.0},\n",
       "  'right': 21.0},\n",
       " {'node': {'feature': 'a', 'split': 3, 'cost': 3764.2222222222226},\n",
       "  'left': 77.0,\n",
       "  'right': {'node': {'feature': 'a', 'split': 19, 'cost': 3514.833333333333},\n",
       "   'left': 30.0,\n",
       "   'right': {'node': {'feature': 'c', 'split': 6, 'cost': 764.6666666666666},\n",
       "    'left': 37.0,\n",
       "    'right': 45.333333333333336}}},\n",
       " {'node': {'feature': 'a', 'split': 39, 'cost': 3723.5833333333335},\n",
       "  'left': 56.75,\n",
       "  'right': {'node': {'feature': 'a', 'split': 44, 'cost': 442.8},\n",
       "   'left': 20.0,\n",
       "   'right': 35.8}},\n",
       " {'node': {'feature': 'c', 'split': 10, 'cost': 3777.714285714286},\n",
       "  'left': {'node': {'feature': 'a', 'split': 3, 'cost': 3190.833333333334},\n",
       "   'left': 77.0,\n",
       "   'right': {'node': {'feature': 'c', 'split': 2, 'cost': 2794.8},\n",
       "    'left': 69.0,\n",
       "    'right': 47.2}},\n",
       "  'right': 20.0},\n",
       " {'node': {'feature': 'a', 'split': 9, 'cost': 1790.0},\n",
       "  'left': 9.0,\n",
       "  'right': {'node': {'feature': 'a', 'split': 39, 'cost': 555.6666666666667},\n",
       "   'left': 52.5,\n",
       "   'right': 25.666666666666668}},\n",
       " {'node': {'feature': 'c', 'split': 7, 'cost': 3357.0},\n",
       "  'left': {'node': {'feature': 'c', 'split': 6, 'cost': 529.0},\n",
       "   'left': 57.5,\n",
       "   'right': 77.0},\n",
       "  'right': 31.5},\n",
       " {'node': {'feature': 'a', 'split': 3, 'cost': 4839.428571428572},\n",
       "  'left': 77.0,\n",
       "  'right': {'node': {'feature': 'a', 'split': 9, 'cost': 1656.8},\n",
       "   'left': 9.0,\n",
       "   'right': 56.2}},\n",
       " {'node': {'feature': 'c', 'split': 10, 'cost': 2596.2222222222217},\n",
       "  'left': {'node': {'feature': 'c', 'split': 8, 'cost': 2315.714285714286},\n",
       "   'left': {'node': {'feature': 'a', 'split': 19, 'cost': 372.66666666666663},\n",
       "    'left': 73.0,\n",
       "    'right': 39.333333333333336},\n",
       "   'right': 72.0},\n",
       "  'right': 20.0},\n",
       " {'node': {'feature': 'a', 'split': 39, 'cost': 721.6},\n",
       "  'left': 63.2,\n",
       "  'right': 26.8},\n",
       " {'node': {'feature': 'a', 'split': 39, 'cost': 6194.666666666667},\n",
       "  'left': {'node': {'feature': 'c', 'split': 6, 'cost': 4899.333333333334},\n",
       "   'left': 69.0,\n",
       "   'right': {'node': {'feature': 'c', 'split': 8, 'cost': 4762.799999999999},\n",
       "    'left': 47.0,\n",
       "    'right': 34.2}},\n",
       "  'right': 30.333333333333332},\n",
       " {'node': {'feature': 'a', 'split': 39, 'cost': 1154.8},\n",
       "  'left': 60.8,\n",
       "  'right': 33.0},\n",
       " {'node': {'feature': 'a', 'split': 9, 'cost': 4096.0},\n",
       "  'left': 22.6,\n",
       "  'right': 51.2},\n",
       " {'node': {'feature': 'c', 'split': 10, 'cost': 2549.5},\n",
       "  'left': {'node': {'feature': 'a', 'split': 19, 'cost': 347.8666666666667},\n",
       "   'left': 72.66666666666667,\n",
       "   'right': 38.4},\n",
       "  'right': 20.0},\n",
       " {'node': {'feature': 'a', 'split': 3, 'cost': 4632.875},\n",
       "  'left': 77.0,\n",
       "  'right': {'node': {'feature': 'c', 'split': 8, 'cost': 2877.2},\n",
       "   'left': 60.6,\n",
       "   'right': 30.0}},\n",
       " {'node': {'feature': 'a', 'split': 19, 'cost': 840.0},\n",
       "  'left': 77.0,\n",
       "  'right': {'node': {'feature': 'c', 'split': 7, 'cost': 139.92857142857144},\n",
       "   'left': {'node': {'feature': 'c', 'split': 6, 'cost': 97.2},\n",
       "    'left': 42.4,\n",
       "    'right': 47.0},\n",
       "   'right': 22.5}},\n",
       " {'node': {'feature': 'c', 'split': 2, 'cost': 565.4285714285714},\n",
       "  'left': 69.0,\n",
       "  'right': {'node': {'feature': 'c', 'split': 7, 'cost': 112.80000000000001},\n",
       "   'left': 42.8,\n",
       "   'right': 25.0}},\n",
       " {'node': {'feature': 'a', 'split': 3, 'cost': 5267.555555555556},\n",
       "  'left': 77.0,\n",
       "  'right': {'node': {'feature': 'c', 'split': 2, 'cost': 4413.714285714285},\n",
       "   'left': 69.0,\n",
       "   'right': {'node': {'feature': 'c', 'split': 8, 'cost': 4173.666666666667},\n",
       "    'left': 52.333333333333336,\n",
       "    'right': 40.5}}},\n",
       " {'node': {'feature': 'a', 'split': 39, 'cost': 3546.875},\n",
       "  'left': {'node': {'feature': 'a', 'split': 3, 'cost': 3095.4285714285716},\n",
       "   'left': 77.0,\n",
       "   'right': {'node': {'feature': 'a', 'split': 21, 'cost': 2985.333333333334},\n",
       "    'left': 52.666666666666664,\n",
       "    'right': 64.0}},\n",
       "  'right': 20.0},\n",
       " {'node': {'feature': 'c', 'split': 4, 'cost': 2184.8571428571427},\n",
       "  'left': 69.0,\n",
       "  'right': {'node': {'feature': 'c', 'split': 8, 'cost': 1560.0},\n",
       "   'left': {'node': {'feature': 'c', 'split': 7, 'cost': 1080.0},\n",
       "    'left': 49.0,\n",
       "    'right': 25.0},\n",
       "   'right': 72.0}},\n",
       " {'node': {'feature': 'c', 'split': 7, 'cost': 1342.3333333333333},\n",
       "  'left': {'node': {'feature': 'a', 'split': 47, 'cost': 76.80000000000001},\n",
       "   'left': 73.8,\n",
       "   'right': 37.0},\n",
       "  'right': 18.5},\n",
       " {'node': {'feature': 'c', 'split': 6, 'cost': 710.0},\n",
       "  'left': 37.0,\n",
       "  'right': {'node': {'feature': 'c', 'split': 8, 'cost': 699.2},\n",
       "   'left': 68.4,\n",
       "   'right': 72.0}},\n",
       " {'node': {'feature': 'a', 'split': 39, 'cost': 487.33333333333337},\n",
       "  'left': 77.0,\n",
       "  'right': {'node': {'feature': 'a', 'split': 44, 'cost': 324.0},\n",
       "   'left': 20.0,\n",
       "   'right': 34.0}},\n",
       " {'node': {'feature': 'a', 'split': 19, 'cost': 432.75},\n",
       "  'left': 71.75,\n",
       "  'right': {'node': {'feature': 'c', 'split': 7, 'cost': 1.2},\n",
       "   'left': 46.6,\n",
       "   'right': 25.0}},\n",
       " {'node': {'feature': 'a', 'split': 19, 'cost': 3523.714285714286},\n",
       "  'left': 30.0,\n",
       "  'right': {'node': {'feature': 'c', 'split': 7, 'cost': 108.80000000000001},\n",
       "   'left': 40.8,\n",
       "   'right': 64.0}},\n",
       " {'node': {'feature': 'c', 'split': 6, 'cost': 4452.380952380952},\n",
       "  'left': 50.666666666666664,\n",
       "  'right': {'node': {'feature': 'a', 'split': 3, 'cost': 2658.0},\n",
       "   'left': 77.0,\n",
       "   'right': 50.0}},\n",
       " {'node': {'feature': 'c', 'split': 7, 'cost': 1252.8333333333335},\n",
       "  'left': {'node': {'feature': 'c', 'split': 2, 'cost': 928.8},\n",
       "   'left': 69.0,\n",
       "   'right': 50.8},\n",
       "  'right': 66.0},\n",
       " {'node': {'feature': 'c', 'split': 10, 'cost': 1416.0},\n",
       "  'left': {'node': {'feature': 'a', 'split': 19, 'cost': 234.75},\n",
       "   'left': 77.0,\n",
       "   'right': 50.75},\n",
       "  'right': 20.0},\n",
       " {'node': {'feature': 'c', 'split': 7, 'cost': 2779.5833333333335},\n",
       "  'left': {'node': {'feature': 'c', 'split': 4, 'cost': 66.66666666666667},\n",
       "   'left': 46.0,\n",
       "   'right': 40.333333333333336},\n",
       "  'right': 28.75},\n",
       " {'node': {'feature': 'a', 'split': 3, 'cost': 3578.0000000000005},\n",
       "  'left': 77.0,\n",
       "  'right': {'node': {'feature': 'c', 'split': 2, 'cost': 2716.875},\n",
       "   'left': 69.0,\n",
       "   'right': {'node': {'feature': 'c', 'split': 10, 'cost': 2351.7142857142862},\n",
       "    'left': 40.42857142857143,\n",
       "    'right': 20.0}}},\n",
       " {'node': {'feature': 'a', 'split': 3, 'cost': 3571.875},\n",
       "  'left': 77.0,\n",
       "  'right': {'node': {'feature': 'c', 'split': 2, 'cost': 2585.7142857142862},\n",
       "   'left': 69.0,\n",
       "   'right': {'node': {'feature': 'c', 'split': 7, 'cost': 2272.8},\n",
       "    'left': 46.0,\n",
       "    'right': 31.2}}},\n",
       " {'node': {'feature': 'c', 'split': 8, 'cost': 4388.333333333333},\n",
       "  'left': {'node': {'feature': 'a', 'split': 53, 'cost': 66.66666666666667},\n",
       "   'left': 40.333333333333336,\n",
       "   'right': 25.0},\n",
       "  'right': 40.5},\n",
       " {'node': {'feature': 'c', 'split': 10, 'cost': 3207.5555555555557},\n",
       "  'left': {'node': {'feature': 'c', 'split': 8, 'cost': 2721.875},\n",
       "   'left': {'node': {'feature': 'c', 'split': 7, 'cost': 2180.0},\n",
       "    'left': 55.0,\n",
       "    'right': 38.0},\n",
       "   'right': 72.0},\n",
       "  'right': 20.0},\n",
       " {'node': {'feature': 'c', 'split': 6, 'cost': 5728.0},\n",
       "  'left': 41.5,\n",
       "  'right': {'node': {'feature': 'a', 'split': 3, 'cost': 5015.4285714285725},\n",
       "   'left': 77.0,\n",
       "   'right': {'node': {'feature': 'a', 'split': 21, 'cost': 4762.833333333334},\n",
       "    'left': 46.833333333333336,\n",
       "    'right': 64.0}}},\n",
       " {'node': {'feature': 'a', 'split': 3, 'cost': 2360.0},\n",
       "  'left': 77.0,\n",
       "  'right': {'node': {'feature': 'a', 'split': 19, 'cost': 1755.4285714285716},\n",
       "   'left': 9.0,\n",
       "   'right': {'node': {'feature': 'a', 'split': 39, 'cost': 611.3},\n",
       "    'left': 55.5,\n",
       "    'right': 27.2}}},\n",
       " {'node': {'feature': 'c', 'split': 7, 'cost': 4417.714285714286},\n",
       "  'left': 61.0,\n",
       "  'right': {'node': {'feature': 'c', 'split': 10, 'cost': 3006.0},\n",
       "   'left': 39.0,\n",
       "   'right': 20.0}},\n",
       " {'node': {'feature': 'a', 'split': 39, 'cost': 394.0952380952382},\n",
       "  'left': 69.33333333333333,\n",
       "  'right': {'node': {'feature': 'c', 'split': 7, 'cost': 30.0},\n",
       "   'left': 37.0,\n",
       "   'right': 22.0}},\n",
       " {'node': {'feature': 'a', 'split': 3, 'cost': 4604.857142857143},\n",
       "  'left': 77.0,\n",
       "  'right': {'node': {'feature': 'a', 'split': 9, 'cost': 3830.75},\n",
       "   'left': 30.0,\n",
       "   'right': 51.25}},\n",
       " {'node': {'feature': 'a', 'split': 39, 'cost': 222.08333333333334},\n",
       "  'left': {'node': {'feature': 'c', 'split': 8, 'cost': 25.0},\n",
       "   'left': 66.5,\n",
       "   'right': 72.0},\n",
       "  'right': 26.75},\n",
       " {'node': {'feature': 'a', 'split': 47, 'cost': 3522.0},\n",
       "  'left': {'node': {'feature': 'a', 'split': 3, 'cost': 2969.7142857142862},\n",
       "   'left': 77.0,\n",
       "   'right': {'node': {'feature': 'a', 'split': 21, 'cost': 2665.2000000000003},\n",
       "    'left': 49.4,\n",
       "    'right': 64.0}},\n",
       "  'right': 31.0}]"
      ]
     },
     "execution_count": 21,
     "metadata": {},
     "output_type": "execute_result"
    }
   ],
   "source": [
    "grow_forest(toy_data, 3, 5, 100)"
   ]
  },
  {
   "cell_type": "markdown",
   "metadata": {},
   "source": [
    "### investigate prediction from trained random forest\n",
    "* to predict the partition an observation falls into I need to compare each feature, to any splits it is used for in the pathway to the partition.\n"
   ]
  },
  {
   "cell_type": "code",
   "execution_count": 368,
   "metadata": {},
   "outputs": [
    {
     "data": {
      "text/plain": [
       "{'node': {'feature': 'c', 'split': 3, 'cost': 0.0}, 'left': 9.0, 'right': 21.0}"
      ]
     },
     "metadata": {},
     "output_type": "display_data"
    },
    {
     "data": {
      "text/html": [
       "<div>\n",
       "<style scoped>\n",
       "    .dataframe tbody tr th:only-of-type {\n",
       "        vertical-align: middle;\n",
       "    }\n",
       "\n",
       "    .dataframe tbody tr th {\n",
       "        vertical-align: top;\n",
       "    }\n",
       "\n",
       "    .dataframe thead th {\n",
       "        text-align: right;\n",
       "    }\n",
       "</style>\n",
       "<table border=\"1\" class=\"dataframe\">\n",
       "  <thead>\n",
       "    <tr style=\"text-align: right;\">\n",
       "      <th></th>\n",
       "      <th>a</th>\n",
       "      <th>c</th>\n",
       "      <th>y</th>\n",
       "    </tr>\n",
       "  </thead>\n",
       "  <tbody>\n",
       "    <tr>\n",
       "      <th>1</th>\n",
       "      <td>47</td>\n",
       "      <td>3</td>\n",
       "      <td>21</td>\n",
       "    </tr>\n",
       "    <tr>\n",
       "      <th>0</th>\n",
       "      <td>44</td>\n",
       "      <td>0</td>\n",
       "      <td>9</td>\n",
       "    </tr>\n",
       "    <tr>\n",
       "      <th>0</th>\n",
       "      <td>44</td>\n",
       "      <td>0</td>\n",
       "      <td>9</td>\n",
       "    </tr>\n",
       "  </tbody>\n",
       "</table>\n",
       "</div>"
      ],
      "text/plain": [
       "    a  c   y\n",
       "1  47  3  21\n",
       "0  44  0   9\n",
       "0  44  0   9"
      ]
     },
     "metadata": {},
     "output_type": "display_data"
    },
    {
     "data": {
      "text/html": [
       "<div>\n",
       "<style scoped>\n",
       "    .dataframe tbody tr th:only-of-type {\n",
       "        vertical-align: middle;\n",
       "    }\n",
       "\n",
       "    .dataframe tbody tr th {\n",
       "        vertical-align: top;\n",
       "    }\n",
       "\n",
       "    .dataframe thead th {\n",
       "        text-align: right;\n",
       "    }\n",
       "</style>\n",
       "<table border=\"1\" class=\"dataframe\">\n",
       "  <thead>\n",
       "    <tr style=\"text-align: right;\">\n",
       "      <th></th>\n",
       "      <th>a</th>\n",
       "      <th>c</th>\n",
       "      <th>y</th>\n",
       "    </tr>\n",
       "  </thead>\n",
       "  <tbody>\n",
       "    <tr>\n",
       "      <th>0</th>\n",
       "      <td>37</td>\n",
       "      <td>9</td>\n",
       "      <td>15</td>\n",
       "    </tr>\n",
       "    <tr>\n",
       "      <th>1</th>\n",
       "      <td>12</td>\n",
       "      <td>11</td>\n",
       "      <td>0</td>\n",
       "    </tr>\n",
       "    <tr>\n",
       "      <th>2</th>\n",
       "      <td>72</td>\n",
       "      <td>5</td>\n",
       "      <td>16</td>\n",
       "    </tr>\n",
       "  </tbody>\n",
       "</table>\n",
       "</div>"
      ],
      "text/plain": [
       "    a   c   y\n",
       "0  37   9  15\n",
       "1  12  11   0\n",
       "2  72   5  16"
      ]
     },
     "metadata": {},
     "output_type": "display_data"
    }
   ],
   "source": [
    "toy_tree = grow_tree(bootstrap(toy_data, 1), \n",
    "          select_node(get_split_costs(bootstrap(toy_data, 1))), 1, 2, 2)\n",
    "display(toy_tree)\n",
    "display(bootstrap(toy_data, 1))\n",
    "display(toy_data_test)"
   ]
  },
  {
   "cell_type": "code",
   "execution_count": 35,
   "metadata": {},
   "outputs": [
    {
     "data": {
      "text/plain": [
       "{'node': {'feature': 'a', 'split': 9, 'cost': 1856.875},\n",
       " 'left': 9.0,\n",
       " 'right': {'node': {'feature': 'c', 'split': 10, 'cost': 887.4285714285714},\n",
       "  'left': 53.285714285714285,\n",
       "  'right': 20.0}}"
      ]
     },
     "metadata": {},
     "output_type": "display_data"
    },
    {
     "data": {
      "text/html": [
       "<div>\n",
       "<style scoped>\n",
       "    .dataframe tbody tr th:only-of-type {\n",
       "        vertical-align: middle;\n",
       "    }\n",
       "\n",
       "    .dataframe tbody tr th {\n",
       "        vertical-align: top;\n",
       "    }\n",
       "\n",
       "    .dataframe thead th {\n",
       "        text-align: right;\n",
       "    }\n",
       "</style>\n",
       "<table border=\"1\" class=\"dataframe\">\n",
       "  <thead>\n",
       "    <tr style=\"text-align: right;\">\n",
       "      <th></th>\n",
       "      <th>a</th>\n",
       "      <th>c</th>\n",
       "      <th>y</th>\n",
       "    </tr>\n",
       "  </thead>\n",
       "  <tbody>\n",
       "    <tr>\n",
       "      <th>5</th>\n",
       "      <td>3</td>\n",
       "      <td>8</td>\n",
       "      <td>9</td>\n",
       "    </tr>\n",
       "    <tr>\n",
       "      <th>8</th>\n",
       "      <td>19</td>\n",
       "      <td>6</td>\n",
       "      <td>47</td>\n",
       "    </tr>\n",
       "    <tr>\n",
       "      <th>9</th>\n",
       "      <td>21</td>\n",
       "      <td>7</td>\n",
       "      <td>64</td>\n",
       "    </tr>\n",
       "    <tr>\n",
       "      <th>5</th>\n",
       "      <td>3</td>\n",
       "      <td>8</td>\n",
       "      <td>9</td>\n",
       "    </tr>\n",
       "    <tr>\n",
       "      <th>0</th>\n",
       "      <td>44</td>\n",
       "      <td>2</td>\n",
       "      <td>46</td>\n",
       "    </tr>\n",
       "    <tr>\n",
       "      <th>0</th>\n",
       "      <td>44</td>\n",
       "      <td>2</td>\n",
       "      <td>46</td>\n",
       "    </tr>\n",
       "    <tr>\n",
       "      <th>1</th>\n",
       "      <td>47</td>\n",
       "      <td>4</td>\n",
       "      <td>37</td>\n",
       "    </tr>\n",
       "    <tr>\n",
       "      <th>7</th>\n",
       "      <td>9</td>\n",
       "      <td>1</td>\n",
       "      <td>69</td>\n",
       "    </tr>\n",
       "    <tr>\n",
       "      <th>6</th>\n",
       "      <td>39</td>\n",
       "      <td>10</td>\n",
       "      <td>20</td>\n",
       "    </tr>\n",
       "    <tr>\n",
       "      <th>9</th>\n",
       "      <td>21</td>\n",
       "      <td>7</td>\n",
       "      <td>64</td>\n",
       "    </tr>\n",
       "  </tbody>\n",
       "</table>\n",
       "</div>"
      ],
      "text/plain": [
       "    a   c   y\n",
       "5   3   8   9\n",
       "8  19   6  47\n",
       "9  21   7  64\n",
       "5   3   8   9\n",
       "0  44   2  46\n",
       "0  44   2  46\n",
       "1  47   4  37\n",
       "7   9   1  69\n",
       "6  39  10  20\n",
       "9  21   7  64"
      ]
     },
     "metadata": {},
     "output_type": "display_data"
    },
    {
     "data": {
      "text/html": [
       "<div>\n",
       "<style scoped>\n",
       "    .dataframe tbody tr th:only-of-type {\n",
       "        vertical-align: middle;\n",
       "    }\n",
       "\n",
       "    .dataframe tbody tr th {\n",
       "        vertical-align: top;\n",
       "    }\n",
       "\n",
       "    .dataframe thead th {\n",
       "        text-align: right;\n",
       "    }\n",
       "</style>\n",
       "<table border=\"1\" class=\"dataframe\">\n",
       "  <thead>\n",
       "    <tr style=\"text-align: right;\">\n",
       "      <th></th>\n",
       "      <th>a</th>\n",
       "      <th>c</th>\n",
       "      <th>y</th>\n",
       "    </tr>\n",
       "  </thead>\n",
       "  <tbody>\n",
       "    <tr>\n",
       "      <th>0</th>\n",
       "      <td>37</td>\n",
       "      <td>9</td>\n",
       "      <td>15</td>\n",
       "    </tr>\n",
       "    <tr>\n",
       "      <th>1</th>\n",
       "      <td>12</td>\n",
       "      <td>11</td>\n",
       "      <td>0</td>\n",
       "    </tr>\n",
       "    <tr>\n",
       "      <th>2</th>\n",
       "      <td>72</td>\n",
       "      <td>5</td>\n",
       "      <td>16</td>\n",
       "    </tr>\n",
       "  </tbody>\n",
       "</table>\n",
       "</div>"
      ],
      "text/plain": [
       "    a   c   y\n",
       "0  37   9  15\n",
       "1  12  11   0\n",
       "2  72   5  16"
      ]
     },
     "metadata": {},
     "output_type": "display_data"
    }
   ],
   "source": [
    "toy_tree = grow_tree(bootstrap(toy_data, 1), \n",
    "          select_node(get_split_costs(bootstrap(toy_data, 1))), 1, 2, 1)\n",
    "display(toy_tree)\n",
    "display(bootstrap(toy_data, 1))\n",
    "display(toy_data_test)"
   ]
  },
  {
   "cell_type": "code",
   "execution_count": 40,
   "metadata": {},
   "outputs": [],
   "source": [
    "def tree_predict_row(row, tree):\n",
    "    \n",
    "    '''use the trained tree to partition the feature space of the test observation and return \n",
    "    the partition prediction value, which for regression is the mean of the partition'''\n",
    "    \n",
    "    if row[tree['node']['feature']] <  tree['node']['split']:\n",
    "        if not isinstance(tree['left'], dict):\n",
    "            return tree['left']\n",
    "        else:\n",
    "            return tree_predict_row(row, tree['left'])\n",
    "    else:\n",
    "         if not isinstance(tree['right'], dict):\n",
    "            return tree['right']\n",
    "         else:\n",
    "            return tree_predict_row(row, tree['right'],)\n",
    "        \n",
    "       \n",
    "        "
   ]
  },
  {
   "cell_type": "code",
   "execution_count": 41,
   "metadata": {},
   "outputs": [],
   "source": [
    "def forest_predict_row(row, forest):\n",
    "    \n",
    "    ''' predicts each row of df for each tree than takes the average across \n",
    "    all trees for each row '''\n",
    "    \n",
    "    return np.mean([tree_predict_row(row, tree) for tree in forest])"
   ]
  },
  {
   "cell_type": "code",
   "execution_count": 42,
   "metadata": {},
   "outputs": [],
   "source": [
    "def predict(df, forest):\n",
    "\n",
    "    ''' applies predict row function to a df of test observations '''\n",
    "    \n",
    "    return df.apply(forest_predict_row, axis = 1, forest = forest)\n",
    "    "
   ]
  },
  {
   "cell_type": "code",
   "execution_count": 43,
   "metadata": {
    "scrolled": true
   },
   "outputs": [
    {
     "data": {
      "text/plain": [
       "53.285714285714285"
      ]
     },
     "execution_count": 43,
     "metadata": {},
     "output_type": "execute_result"
    }
   ],
   "source": [
    "tree_predict_row(toy_data_test.iloc[2,:], toy_tree)"
   ]
  },
  {
   "cell_type": "code",
   "execution_count": 439,
   "metadata": {
    "scrolled": true
   },
   "outputs": [
    {
     "data": {
      "text/plain": [
       "0     9.0\n",
       "1    20.0\n",
       "2    43.0\n",
       "dtype: float64"
      ]
     },
     "execution_count": 439,
     "metadata": {},
     "output_type": "execute_result"
    }
   ],
   "source": [
    "tree_predict(toy_data_test, tree = toy_tree)"
   ]
  },
  {
   "cell_type": "code",
   "execution_count": 44,
   "metadata": {},
   "outputs": [],
   "source": [
    "toy_forest = grow_forest(toy_data, 3, 1, 100)"
   ]
  },
  {
   "cell_type": "code",
   "execution_count": 45,
   "metadata": {},
   "outputs": [
    {
     "data": {
      "text/plain": [
       "38.282428571428575"
      ]
     },
     "execution_count": 45,
     "metadata": {},
     "output_type": "execute_result"
    }
   ],
   "source": [
    "forest_predict_row(toy_data_test.iloc[2,:], toy_forest)"
   ]
  },
  {
   "cell_type": "code",
   "execution_count": 46,
   "metadata": {},
   "outputs": [
    {
     "data": {
      "text/plain": [
       "0    44.007381\n",
       "1    36.423381\n",
       "2    38.282429\n",
       "dtype: float64"
      ]
     },
     "execution_count": 46,
     "metadata": {},
     "output_type": "execute_result"
    }
   ],
   "source": [
    "predict(toy_data_test, toy_forest)"
   ]
  },
  {
   "cell_type": "code",
   "execution_count": 47,
   "metadata": {},
   "outputs": [],
   "source": [
    "# r_squared = 1 - (np.sum((y - predicted_y)**2)/np.sum((y - mean_y)**2))\n",
    "\n",
    "def r_squared(y, predicted_y):\n",
    "    \n",
    "    return 1 - (np.sum((y - predicted_y)**2)/np.sum((y - np.mean(y))**2))"
   ]
  },
  {
   "cell_type": "code",
   "execution_count": 48,
   "metadata": {},
   "outputs": [],
   "source": [
    "# mse = np.sum((y - predicted_y)**2)\n",
    "\n",
    "def mse(y, predicted_y):\n",
    "    \n",
    "    return np.sum((y - predicted_y)**2)"
   ]
  },
  {
   "cell_type": "code",
   "execution_count": 49,
   "metadata": {},
   "outputs": [],
   "source": [
    "predicted_y = predict(toy_data_test, toy_forest)"
   ]
  },
  {
   "cell_type": "code",
   "execution_count": 52,
   "metadata": {},
   "outputs": [
    {
     "data": {
      "text/plain": [
       "0.9642438412175306"
      ]
     },
     "metadata": {},
     "output_type": "display_data"
    },
    {
     "data": {
      "text/plain": [
       "180.7259289501135"
      ]
     },
     "metadata": {},
     "output_type": "display_data"
    }
   ],
   "source": [
    "display(r_squared(toy_data.loc[:,'y'], predicted_y))\n",
    "\n",
    "display(mse(toy_data.loc[:,'y'], predicted_y))"
   ]
  },
  {
   "cell_type": "code",
   "execution_count": null,
   "metadata": {},
   "outputs": [],
   "source": []
  }
 ],
 "metadata": {
  "kernelspec": {
   "display_name": "Python 3",
   "language": "python",
   "name": "python3"
  },
  "language_info": {
   "codemirror_mode": {
    "name": "ipython",
    "version": 3
   },
   "file_extension": ".py",
   "mimetype": "text/x-python",
   "name": "python",
   "nbconvert_exporter": "python",
   "pygments_lexer": "ipython3",
   "version": "3.7.3"
  }
 },
 "nbformat": 4,
 "nbformat_minor": 2
}
